{
 "cells": [
  {
   "cell_type": "code",
   "execution_count": 18,
   "metadata": {},
   "outputs": [
    {
     "data": {
      "text/plain": [
       "3"
      ]
     },
     "execution_count": 18,
     "metadata": {},
     "output_type": "execute_result"
    }
   ],
   "source": [
    "# You're given strings J representing the types of stones that are jewels, and S representing the stones you have.  \n",
    "# Each character in S is a type of stone you have.  You want to know how many of the stones you have are also jewels.\n",
    "\n",
    "# The letters in J are guaranteed distinct, and all characters in J and S are letters. Letters are case sensitive, \n",
    "# so \"a\" is considered a different type of stone from \"A\".\n",
    "\n",
    "# Example 1:\n",
    "\n",
    "# Input: J = \"aA\", S = \"aAAbbbb\"\n",
    "# Output: 3\n",
    "# Example 2:\n",
    "\n",
    "# Input: J = \"z\", S = \"ZZ\"\n",
    "# Output: 0\n",
    "\n",
    "# https://leetcode.com/problems/jewels-and-stones/\n",
    "\n",
    "def numJewelsInStones(J, S):\n",
    "    result = []\n",
    "    for char in S:\n",
    "        if char in J:\n",
    "            result.append(char)\n",
    "    return len(result)\n",
    "\n",
    "numJewelsInStones('aA', 'aAAbbbb')"
   ]
  },
  {
   "cell_type": "code",
   "execution_count": 17,
   "metadata": {},
   "outputs": [
    {
     "data": {
      "text/plain": [
       "2"
      ]
     },
     "execution_count": 17,
     "metadata": {},
     "output_type": "execute_result"
    }
   ],
   "source": [
    "# Given an array nums of integers, return how many of them contain an even number of digits.\n",
    " \n",
    "\n",
    "# Example 1:\n",
    "\n",
    "# Input: nums = [12,345,2,6,7896]\n",
    "# Output: 2\n",
    "# Explanation: \n",
    "# 12 contains 2 digits (even number of digits). \n",
    "# 345 contains 3 digits (odd number of digits). \n",
    "# 2 contains 1 digit (odd number of digits). \n",
    "# 6 contains 1 digit (odd number of digits). \n",
    "# 7896 contains 4 digits (even number of digits). \n",
    "# Therefore only 12 and 7896 contain an even number of digits.\n",
    "\n",
    "# https://leetcode.com/problems/find-numbers-with-even-number-of-digits/\n",
    "\n",
    "def findNumbers(nums):\n",
    "    count = 0\n",
    "    for num in nums:\n",
    "        if len(str(num)) % 2 == 0:\n",
    "            count += 1\n",
    "    return count\n",
    "\n",
    "findNumbers([12,345,2,6,7896])"
   ]
  },
  {
   "cell_type": "code",
   "execution_count": 21,
   "metadata": {},
   "outputs": [
    {
     "data": {
      "text/plain": [
       "15"
      ]
     },
     "execution_count": 21,
     "metadata": {},
     "output_type": "execute_result"
    }
   ],
   "source": [
    "# Given an integer number n, return the difference between the product of its digits and the sum of its digits.\n",
    " \n",
    "\n",
    "# Example 1:\n",
    "\n",
    "# Input: n = 234\n",
    "# Output: 15 \n",
    "# Explanation: \n",
    "# Product of digits = 2 * 3 * 4 = 24 \n",
    "# Sum of digits = 2 + 3 + 4 = 9 \n",
    "# Result = 24 - 9 = 15\n",
    "\n",
    "# https://leetcode.com/problems/subtract-the-product-and-sum-of-digits-of-an-integer/\n",
    "\n",
    "def subtractProductAndSum(n):\n",
    "    prod_res = 1\n",
    "    sum_res = 0\n",
    "    for char in str(n):\n",
    "        prod_res *= int(char)\n",
    "        sum_res += int(char)\n",
    "    return prod_res-sum_res\n",
    "\n",
    "subtractProductAndSum(234)"
   ]
  },
  {
   "cell_type": "code",
   "execution_count": 26,
   "metadata": {},
   "outputs": [
    {
     "data": {
      "text/plain": [
       "[True, True, True, False, True]"
      ]
     },
     "execution_count": 26,
     "metadata": {},
     "output_type": "execute_result"
    }
   ],
   "source": [
    "# Given the array candies and the integer extraCandies, where candies[i] represents the number of candies that the ith kid \n",
    "# has.\n",
    "\n",
    "# For each kid check if there is a way to distribute extraCandies among the kids such that he or she can have the greatest \n",
    "# number of candies among them. Notice that multiple kids can have the greatest number of candies.\n",
    "\n",
    " \n",
    "\n",
    "# Example 1:\n",
    "\n",
    "# Input: candies = [2,3,5,1,3], extraCandies = 3\n",
    "# Output: [true,true,true,false,true] \n",
    "# Explanation: \n",
    "# Kid 1 has 2 candies and if he or she receives all extra candies (3) will have 5 candies --- the greatest number of candies \n",
    "# among the kids. \n",
    "# Kid 2 has 3 candies and if he or she receives at least 2 extra candies will have the greatest number of candies among the \n",
    "# kids. \n",
    "# Kid 3 has 5 candies and this is already the greatest number of candies among the kids. \n",
    "# Kid 4 has 1 candy and even if he or she receives all extra candies will only have 4 candies. \n",
    "# Kid 5 has 3 candies and if he or she receives at least 2 extra candies will have the greatest number of candies among the \n",
    "# kids. \n",
    "\n",
    "# https://leetcode.com/problems/kids-with-the-greatest-number-of-candies/\n",
    "\n",
    "def kidsWithCandies(candies, extraCandies):\n",
    "    max_candy = max(candies)\n",
    "    result = []\n",
    "    for candy in candies:\n",
    "        if candy+extraCandies >= max_candy:\n",
    "            result.append(True)\n",
    "        else:\n",
    "            result.append(False)\n",
    "    return result\n",
    "            \n",
    "kidsWithCandies([2,3,5,1,3], 3)"
   ]
  },
  {
   "cell_type": "code",
   "execution_count": 43,
   "metadata": {},
   "outputs": [
    {
     "data": {
      "text/plain": [
       "'ltcdscmmntyfrcdrs'"
      ]
     },
     "execution_count": 43,
     "metadata": {},
     "output_type": "execute_result"
    }
   ],
   "source": [
    "# Given a string S, remove the vowels 'a', 'e', 'i', 'o', and 'u' from it, and return the new string.\n",
    "\n",
    " \n",
    "\n",
    "# Example 1:\n",
    "\n",
    "# Input: \"leetcodeisacommunityforcoders\"\n",
    "# Output: \"ltcdscmmntyfrcdrs\"\n",
    "\n",
    "# https://leetcode.com/problems/remove-vowels-from-a-string/\n",
    "\n",
    "def removeVowels(s):\n",
    "    vowels = 'aeiou'\n",
    "#     result = ''\n",
    "#     for char in s:\n",
    "#         if char not in vowels:\n",
    "#             result += char\n",
    "#     return result\n",
    "    for char in s:\n",
    "        if char in vowels:\n",
    "            s = s.replace(char, '')\n",
    "    return s\n",
    "\n",
    "removeVowels('leetcodeisacommunityforcoders')"
   ]
  },
  {
   "cell_type": "code",
   "execution_count": 44,
   "metadata": {},
   "outputs": [
    {
     "data": {
      "text/plain": [
       "'1[.]1[.]1[.]1'"
      ]
     },
     "execution_count": 44,
     "metadata": {},
     "output_type": "execute_result"
    }
   ],
   "source": [
    "# Share\n",
    "# Given a valid (IPv4) IP address, return a defanged version of that IP address.\n",
    "\n",
    "# A defanged IP address replaces every period \".\" with \"[.]\".\n",
    "\n",
    " \n",
    "\n",
    "# Example 1:\n",
    "\n",
    "# Input: address = \"1.1.1.1\"\n",
    "# Output: \"1[.]1[.]1[.]1\"\n",
    "\n",
    "# https://leetcode.com/problems/defanging-an-ip-address/\n",
    "\n",
    "def defang(address):\n",
    "    return address.replace('.', '[.]')\n",
    "\n",
    "defang('1.1.1.1')"
   ]
  },
  {
   "cell_type": "code",
   "execution_count": 48,
   "metadata": {},
   "outputs": [
    {
     "data": {
      "text/plain": [
       "6"
      ]
     },
     "execution_count": 48,
     "metadata": {},
     "output_type": "execute_result"
    }
   ],
   "source": [
    "# Given a non-negative integer num, return the number of steps to reduce it to zero. If the current number is even, \n",
    "# you have to divide it by 2, otherwise, you have to subtract 1 from it.\n",
    "\n",
    "# Example 1:\n",
    "\n",
    "# Input: num = 14\n",
    "# Output: 6\n",
    "# Explanation: \n",
    "# Step 1) 14 is even; divide by 2 and obtain 7. \n",
    "# Step 2) 7 is odd; subtract 1 and obtain 6.\n",
    "# Step 3) 6 is even; divide by 2 and obtain 3. \n",
    "# Step 4) 3 is odd; subtract 1 and obtain 2. \n",
    "# Step 5) 2 is even; divide by 2 and obtain 1. \n",
    "# Step 6) 1 is odd; subtract 1 and obtain 0.\n",
    "\n",
    "# https://leetcode.com/problems/number-of-steps-to-reduce-a-number-to-zero/\n",
    "\n",
    "def numOfSteps(num):\n",
    "    count = 0\n",
    "    \n",
    "    while num > 0:\n",
    "        if num % 2 == 0:\n",
    "            num /= 2\n",
    "            count += 1\n",
    "        else:\n",
    "            num -= 1\n",
    "            count += 1\n",
    "    return count\n",
    "\n",
    "numOfSteps(14)"
   ]
  },
  {
   "cell_type": "code",
   "execution_count": 52,
   "metadata": {},
   "outputs": [
    {
     "data": {
      "text/plain": [
       "[4, 0, 1, 1, 3]"
      ]
     },
     "execution_count": 52,
     "metadata": {},
     "output_type": "execute_result"
    }
   ],
   "source": [
    "# Given the array nums, for each nums[i] find out how many numbers in the array are smaller than it. \n",
    "# That is, for each nums[i] you have to count the number of valid j's such that j != i and nums[j] < nums[i].\n",
    "\n",
    "# Return the answer in an array.\n",
    "\n",
    " \n",
    "\n",
    "# Example 1:\n",
    "\n",
    "# Input: nums = [8,1,2,2,3]\n",
    "# Output: [4,0,1,1,3]\n",
    "# Explanation: \n",
    "# For nums[0]=8 there exist four smaller numbers than it (1, 2, 2 and 3). \n",
    "# For nums[1]=1 does not exist any smaller number than it.\n",
    "# For nums[2]=2 there exist one smaller number than it (1). \n",
    "# For nums[3]=2 there exist one smaller number than it (1). \n",
    "# For nums[4]=3 there exist three smaller numbers than it (1, 2 and 2).\n",
    "\n",
    "# https://leetcode.com/problems/how-many-numbers-are-smaller-than-the-current-number/\n",
    "\n",
    "def smallerNumbersThanCurrent(nums):\n",
    "    res = [0] * len(nums)\n",
    "    for i in range(len(nums)):\n",
    "        for j in range(len(nums)):\n",
    "            if i != j and nums[i] > nums[j]:\n",
    "                res[i] += 1\n",
    "    return res\n",
    "\n",
    "#     d = {}\n",
    "#     for i, num in enumerate(nums):\n",
    "#         d[num] = i\n",
    "#     return [d[num] for num in nums]\n",
    "\n",
    "smallerNumbersThanCurrent([8,1,2,2,3])"
   ]
  },
  {
   "cell_type": "code",
   "execution_count": 73,
   "metadata": {},
   "outputs": [
    {
     "data": {
      "text/plain": [
       "1"
      ]
     },
     "execution_count": 73,
     "metadata": {},
     "output_type": "execute_result"
    }
   ],
   "source": [
    "# Given two integer arrays startTime and endTime and given an integer queryTime.\n",
    "\n",
    "# The ith student started doing their homework at the time startTime[i] and finished it at time endTime[i].\n",
    "\n",
    "# Return the number of students doing their homework at time queryTime. More formally, return the number of students where \n",
    "# queryTime lays in the interval [startTime[i], endTime[i]] inclusive.\n",
    "\n",
    " \n",
    "\n",
    "# Example 1:\n",
    "\n",
    "# Input: startTime = [1,2,3], endTime = [3,2,7], queryTime = 4\n",
    "# Output: 1\n",
    "# Explanation: We have 3 students where:\n",
    "# The first student started doing homework at time 1 and finished at time 3 and wasn't doing anything at time 4.\n",
    "# The second student started doing homework at time 2 and finished at time 2 and also wasn't doing anything at time 4.\n",
    "# The third student started doing homework at time 3 and finished at time 7 and was the only student doing homework at \n",
    "# time 4.\n",
    "\n",
    "# https://leetcode.com/problems/number-of-students-doing-homework-at-a-given-time/\n",
    "\n",
    "def busyStudent(startTime, endTime, queryTime):\n",
    "    res = 0\n",
    "    for time in range(len(startTime)):\n",
    "        if queryTime >= startTime[time] and queryTime <= endTime[time]:\n",
    "            res += 1\n",
    "    return res\n",
    "\n",
    "busyStudent([1,2,3], [3,2,7], 4) #1\n",
    "busyStudent([9,8,7,6,5,4,3,2,1], [10,10,10,10,10,10,10,10,10], 5) #5\n",
    "busyStudent([4], [4], 4) #1\n",
    "busyStudent([16], [60], 58) #1"
   ]
  },
  {
   "cell_type": "code",
   "execution_count": 81,
   "metadata": {},
   "outputs": [
    {
     "data": {
      "text/plain": [
       "[1]"
      ]
     },
     "execution_count": 81,
     "metadata": {},
     "output_type": "execute_result"
    }
   ],
   "source": [
    "# Given two arrays of integers nums and index. Your task is to create target array under the following rules:\n",
    "\n",
    "# Initially target array is empty.\n",
    "# From left to right read nums[i] and index[i], insert at index index[i] the value nums[i] in target array.\n",
    "# Repeat the previous step until there are no elements to read in nums and index.\n",
    "# Return the target array.\n",
    "\n",
    "# It is guaranteed that the insertion operations will be valid.\n",
    "\n",
    " \n",
    "\n",
    "# Example 1:\n",
    "\n",
    "# Input: nums = [0,1,2,3,4], index = [0,1,2,2,1]\n",
    "# Output: [0,4,1,3,2]\n",
    "# Explanation:\n",
    "# nums       index     target\n",
    "# 0            0        [0]\n",
    "# 1            1        [0,1]\n",
    "# 2            2        [0,1,2]\n",
    "# 3            2        [0,1,3,2]\n",
    "# 4            1        [0,4,1,3,2]\n",
    "\n",
    "# https://leetcode.com/problems/create-target-array-in-the-given-order/\n",
    "\n",
    "def createTargetArray(nums, index):\n",
    "    target = []\n",
    "    for i in range(len(index)):\n",
    "        target.insert(index[i], nums[i])\n",
    "    return target\n",
    "\n",
    "createTargetArray([0,1,2,3,4], [0,1,2,2,1])\n",
    "createTargetArray(nums = [1,2,3,4,0], index = [0,1,2,3,0])\n",
    "createTargetArray(nums = [1], index = [0])"
   ]
  },
  {
   "cell_type": "code",
   "execution_count": 154,
   "metadata": {},
   "outputs": [
    {
     "data": {
      "text/plain": [
       "4"
      ]
     },
     "execution_count": 154,
     "metadata": {},
     "output_type": "execute_result"
    }
   ],
   "source": [
    "# Balanced strings are those who have equal quantity of 'L' and 'R' characters.\n",
    "\n",
    "# Given a balanced string s split it in the maximum amount of balanced strings.\n",
    "\n",
    "# Return the maximum amount of splitted balanced strings.\n",
    "\n",
    " \n",
    "\n",
    "# Example 1:\n",
    "\n",
    "# Input: s = \"RLRRLLRLRL\"\n",
    "# Output: 4\n",
    "# Explanation: s can be split into \"RL\", \"RRLL\", \"RL\", \"RL\", each substring contains same number of 'L' and 'R'.\n",
    "\n",
    "# https://leetcode.com/problems/split-a-string-in-balanced-strings/\n",
    "\n",
    "def balancedStringSplit(s):\n",
    "    count = 0\n",
    "    left, right = 0, 0\n",
    "    for char in s:\n",
    "        if char == 'L':\n",
    "            left += 1\n",
    "        else:\n",
    "            right += 1\n",
    "            \n",
    "        if left > 0 and left == right:\n",
    "            count += 1\n",
    "            left, right = 0, 0\n",
    "    return count\n",
    "\n",
    "balancedStringSplit('RLRRLLRLRL')"
   ]
  },
  {
   "cell_type": "code",
   "execution_count": 90,
   "metadata": {
    "collapsed": true
   },
   "outputs": [],
   "source": [
    "# Given head which is a reference node to a singly-linked list. The value of each node in the linked list is either 0 or 1. \n",
    "# The linked list holds the binary representation of a number.\n",
    "\n",
    "# Return the decimal value of the number in the linked list.\n",
    "\n",
    "# Example: 1\n",
    "# Input: head = [1,0,1]\n",
    "# Output: 5\n",
    "# Explanation: (101) in base 2 = (5) in base 10\n",
    "\n",
    "# https://leetcode.com/problems/convert-binary-number-in-a-linked-list-to-integer/\n",
    "\n",
    "def getDecimalValue(head):\n",
    "    binary = ''\n",
    "    while head:\n",
    "        binary += str(head.val)\n",
    "        head = head.next\n",
    "    return int(binary, 2)"
   ]
  },
  {
   "cell_type": "code",
   "execution_count": 152,
   "metadata": {},
   "outputs": [
    {
     "data": {
      "text/plain": [
       "'Sao Paulo'"
      ]
     },
     "execution_count": 152,
     "metadata": {},
     "output_type": "execute_result"
    }
   ],
   "source": [
    "# You are given the array paths, where paths[i] = [cityAi, cityBi] means there exists a direct path going from cityAi to \n",
    "# cityBi. Return the destination city, that is, the city without any path outgoing to another city.\n",
    "\n",
    "# It is guaranteed that the graph of paths forms a line without any loop, therefore, there will be exactly one destination \n",
    "# city.\n",
    "\n",
    " \n",
    "\n",
    "# Example 1:\n",
    "\n",
    "# Input: paths = [[\"London\",\"New York\"],[\"New York\",\"Lima\"],[\"Lima\",\"Sao Paulo\"]]\n",
    "# Output: \"Sao Paulo\" \n",
    "# Explanation: Starting at \"London\" city you will reach \"Sao Paulo\" city which is the destination city. Your trip \n",
    "#     consist of: \"London\" -> \"New York\" -> \"Lima\" -> \"Sao Paulo\".\n",
    "\n",
    "# https://leetcode.com/problems/destination-city/\n",
    "\n",
    "def destCity(paths):\n",
    "    d = {}\n",
    "    for path in paths:\n",
    "        d[path[0]] = path[1]\n",
    "#     print('Sao Paulo' in d)\n",
    "#     print('London' in d)\n",
    "#     print('Lima' in d)\n",
    "    for k, v in d.items():\n",
    "        if v not in d:\n",
    "            return v\n",
    "destCity([[\"London\",\"New York\"],[\"New York\",\"Lima\"],[\"Lima\",\"Sao Paulo\"]])"
   ]
  },
  {
   "cell_type": "code",
   "execution_count": 132,
   "metadata": {},
   "outputs": [
    {
     "data": {
      "text/plain": [
       "'9969'"
      ]
     },
     "execution_count": 132,
     "metadata": {},
     "output_type": "execute_result"
    }
   ],
   "source": [
    "# Given a positive integer num consisting only of digits 6 and 9.\n",
    "\n",
    "# Return the maximum number you can get by changing at most one digit (6 becomes 9, and 9 becomes 6).\n",
    "\n",
    " \n",
    "\n",
    "# Example 1:\n",
    "\n",
    "# Input: num = 9669\n",
    "# Output: 9969\n",
    "# Explanation: \n",
    "# Changing the first digit results in 6669.\n",
    "# Changing the second digit results in 9969.\n",
    "# Changing the third digit results in 9699.\n",
    "# Changing the fourth digit results in 9666. \n",
    "# The maximum number is 9969.\n",
    "\n",
    "# https://leetcode.com/problems/maximum-69-number/\n",
    "\n",
    "def max69Num(num):\n",
    "    num_str = str(num)\n",
    "    num_str = num_str.replace('6', '9', 1)\n",
    "    return num_str\n",
    "\n",
    "max69Num(9669)"
   ]
  },
  {
   "cell_type": "code",
   "execution_count": 146,
   "metadata": {},
   "outputs": [
    {
     "data": {
      "text/plain": [
       "True"
      ]
     },
     "execution_count": 146,
     "metadata": {},
     "output_type": "execute_result"
    }
   ],
   "source": [
    "# Given an array of integers arr, write a function that returns true if and only if the number of occurrences of each \n",
    "# value in the array is unique.\n",
    "\n",
    " \n",
    "\n",
    "# Example 1:\n",
    "\n",
    "# Input: arr = [1,2,2,1,1,3]\n",
    "# Output: true\n",
    "# Explanation: The value 1 has 3 occurrences, 2 has 2 and 3 has 1. No two values have the same number of occurrences.\n",
    "# Example 2:\n",
    "\n",
    "# Input: arr = [1,2]\n",
    "# Output: false\n",
    "# Example 3:\n",
    "\n",
    "# Input: arr = [-3,0,1,-3,1,1,1,-3,10,0]\n",
    "# Output: true\n",
    "    \n",
    "# https://leetcode.com/problems/unique-number-of-occurrences/\n",
    "\n",
    "def uniqueOccurrence(arr):\n",
    "    d = {}\n",
    "    for i in arr:\n",
    "        d[i] = d.get(i, 0)+1\n",
    "    \n",
    "    values = list(d.values())\n",
    "    if len(values) == len(set(values)):\n",
    "        return True\n",
    "    return False\n",
    "\n",
    "    \n",
    "    \n",
    "uniqueOccurrence([1,2,2,1,1,3])\n",
    "# uniqueOccurrence([1,2])"
   ]
  },
  {
   "cell_type": "code",
   "execution_count": null,
   "metadata": {
    "collapsed": true
   },
   "outputs": [],
   "source": []
  }
 ],
 "metadata": {
  "kernelspec": {
   "display_name": "Python 3",
   "language": "python",
   "name": "python3"
  },
  "language_info": {
   "codemirror_mode": {
    "name": "ipython",
    "version": 3
   },
   "file_extension": ".py",
   "mimetype": "text/x-python",
   "name": "python",
   "nbconvert_exporter": "python",
   "pygments_lexer": "ipython3",
   "version": "3.6.9"
  }
 },
 "nbformat": 4,
 "nbformat_minor": 2
}
