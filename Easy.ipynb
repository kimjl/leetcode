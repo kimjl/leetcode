{
 "cells": [
  {
   "cell_type": "code",
   "execution_count": null,
   "metadata": {
    "collapsed": true
   },
   "outputs": [],
   "source": [
    "# 05/17/2020"
   ]
  },
  {
   "cell_type": "code",
   "execution_count": null,
   "metadata": {
    "collapsed": true
   },
   "outputs": [],
   "source": [
    "# You're given strings J representing the types of stones that are jewels, and S representing the stones you have.  \n",
    "# Each character in S is a type of stone you have.  You want to know how many of the stones you have are also jewels.\n",
    "\n",
    "# The letters in J are guaranteed distinct, and all characters in J and S are letters. Letters are case sensitive, \n",
    "# so \"a\" is considered a different type of stone from \"A\".\n",
    "\n",
    "# Example 1:\n",
    "\n",
    "# Input: J = \"aA\", S = \"aAAbbbb\"\n",
    "# Output: 3\n",
    "# Example 2:\n",
    "\n",
    "# Input: J = \"z\", S = \"ZZ\"\n",
    "# Output: 0\n",
    "\n",
    "# https://leetcode.com/problems/jewels-and-stones/\n",
    "\n",
    "def numJewelsInStones(J, S):\n",
    "    result = []\n",
    "    for char in S:\n",
    "        if char in J:\n",
    "            result.append(char)\n",
    "    return len(result)\n",
    "\n",
    "numJewelsInStones('aA', 'aAAbbbb')"
   ]
  },
  {
   "cell_type": "code",
   "execution_count": null,
   "metadata": {
    "collapsed": true
   },
   "outputs": [],
   "source": [
    "# Given an array nums of integers, return how many of them contain an even number of digits.\n",
    " \n",
    "\n",
    "# Example 1:\n",
    "\n",
    "# Input: nums = [12,345,2,6,7896]\n",
    "# Output: 2\n",
    "# Explanation: \n",
    "# 12 contains 2 digits (even number of digits). \n",
    "# 345 contains 3 digits (odd number of digits). \n",
    "# 2 contains 1 digit (odd number of digits). \n",
    "# 6 contains 1 digit (odd number of digits). \n",
    "# 7896 contains 4 digits (even number of digits). \n",
    "# Therefore only 12 and 7896 contain an even number of digits.\n",
    "\n",
    "# https://leetcode.com/problems/find-numbers-with-even-number-of-digits/\n",
    "\n",
    "def findNumbers(nums):\n",
    "    count = 0\n",
    "    for num in nums:\n",
    "        if len(str(num)) % 2 == 0:\n",
    "            count += 1\n",
    "    return count\n",
    "\n",
    "findNumbers([12,345,2,6,7896])"
   ]
  },
  {
   "cell_type": "code",
   "execution_count": null,
   "metadata": {
    "collapsed": true
   },
   "outputs": [],
   "source": [
    "# Given an integer number n, return the difference between the product of its digits and the sum of its digits.\n",
    " \n",
    "\n",
    "# Example 1:\n",
    "\n",
    "# Input: n = 234\n",
    "# Output: 15 \n",
    "# Explanation: \n",
    "# Product of digits = 2 * 3 * 4 = 24 \n",
    "# Sum of digits = 2 + 3 + 4 = 9 \n",
    "# Result = 24 - 9 = 15\n",
    "\n",
    "# https://leetcode.com/problems/subtract-the-product-and-sum-of-digits-of-an-integer/\n",
    "\n",
    "def subtractProductAndSum(n):\n",
    "    prod_res = 1\n",
    "    sum_res = 0\n",
    "    for char in str(n):\n",
    "        prod_res *= int(char)\n",
    "        sum_res += int(char)\n",
    "    return prod_res-sum_res\n",
    "\n",
    "subtractProductAndSum(234)"
   ]
  },
  {
   "cell_type": "code",
   "execution_count": null,
   "metadata": {
    "collapsed": true
   },
   "outputs": [],
   "source": [
    "# Given the array candies and the integer extraCandies, where candies[i] represents the number of candies that the ith kid \n",
    "# has.\n",
    "\n",
    "# For each kid check if there is a way to distribute extraCandies among the kids such that he or she can have the greatest \n",
    "# number of candies among them. Notice that multiple kids can have the greatest number of candies.\n",
    "\n",
    " \n",
    "\n",
    "# Example 1:\n",
    "\n",
    "# Input: candies = [2,3,5,1,3], extraCandies = 3\n",
    "# Output: [true,true,true,false,true] \n",
    "# Explanation: \n",
    "# Kid 1 has 2 candies and if he or she receives all extra candies (3) will have 5 candies --- the greatest number of candies \n",
    "# among the kids. \n",
    "# Kid 2 has 3 candies and if he or she receives at least 2 extra candies will have the greatest number of candies among the \n",
    "# kids. \n",
    "# Kid 3 has 5 candies and this is already the greatest number of candies among the kids. \n",
    "# Kid 4 has 1 candy and even if he or she receives all extra candies will only have 4 candies. \n",
    "# Kid 5 has 3 candies and if he or she receives at least 2 extra candies will have the greatest number of candies among the \n",
    "# kids. \n",
    "\n",
    "# https://leetcode.com/problems/kids-with-the-greatest-number-of-candies/\n",
    "\n",
    "def kidsWithCandies(candies, extraCandies):\n",
    "    max_candy = max(candies)\n",
    "    result = []\n",
    "    for candy in candies:\n",
    "        if candy+extraCandies >= max_candy:\n",
    "            result.append(True)\n",
    "        else:\n",
    "            result.append(False)\n",
    "    return result\n",
    "            \n",
    "kidsWithCandies([2,3,5,1,3], 3)"
   ]
  },
  {
   "cell_type": "code",
   "execution_count": null,
   "metadata": {
    "collapsed": true
   },
   "outputs": [],
   "source": [
    "# Given a string S, remove the vowels 'a', 'e', 'i', 'o', and 'u' from it, and return the new string.\n",
    "\n",
    " \n",
    "\n",
    "# Example 1:\n",
    "\n",
    "# Input: \"leetcodeisacommunityforcoders\"\n",
    "# Output: \"ltcdscmmntyfrcdrs\"\n",
    "\n",
    "# https://leetcode.com/problems/remove-vowels-from-a-string/\n",
    "\n",
    "def removeVowels(s):\n",
    "    vowels = 'aeiou'\n",
    "#     result = ''\n",
    "#     for char in s:\n",
    "#         if char not in vowels:\n",
    "#             result += char\n",
    "#     return result\n",
    "    for char in s:\n",
    "        if char in vowels:\n",
    "            s = s.replace(char, '')\n",
    "    return s\n",
    "\n",
    "removeVowels('leetcodeisacommunityforcoders')"
   ]
  },
  {
   "cell_type": "code",
   "execution_count": null,
   "metadata": {
    "collapsed": true
   },
   "outputs": [],
   "source": [
    "# Share\n",
    "# Given a valid (IPv4) IP address, return a defanged version of that IP address.\n",
    "\n",
    "# A defanged IP address replaces every period \".\" with \"[.]\".\n",
    "\n",
    " \n",
    "\n",
    "# Example 1:\n",
    "\n",
    "# Input: address = \"1.1.1.1\"\n",
    "# Output: \"1[.]1[.]1[.]1\"\n",
    "\n",
    "# https://leetcode.com/problems/defanging-an-ip-address/\n",
    "\n",
    "def defang(address):\n",
    "    return address.replace('.', '[.]')\n",
    "\n",
    "defang('1.1.1.1')"
   ]
  },
  {
   "cell_type": "code",
   "execution_count": null,
   "metadata": {
    "collapsed": true
   },
   "outputs": [],
   "source": [
    "# Given a non-negative integer num, return the number of steps to reduce it to zero. If the current number is even, \n",
    "# you have to divide it by 2, otherwise, you have to subtract 1 from it.\n",
    "\n",
    "# Example 1:\n",
    "\n",
    "# Input: num = 14\n",
    "# Output: 6\n",
    "# Explanation: \n",
    "# Step 1) 14 is even; divide by 2 and obtain 7. \n",
    "# Step 2) 7 is odd; subtract 1 and obtain 6.\n",
    "# Step 3) 6 is even; divide by 2 and obtain 3. \n",
    "# Step 4) 3 is odd; subtract 1 and obtain 2. \n",
    "# Step 5) 2 is even; divide by 2 and obtain 1. \n",
    "# Step 6) 1 is odd; subtract 1 and obtain 0.\n",
    "\n",
    "# https://leetcode.com/problems/number-of-steps-to-reduce-a-number-to-zero/\n",
    "\n",
    "def numOfSteps(num):\n",
    "    count = 0\n",
    "    \n",
    "    while num > 0:\n",
    "        if num % 2 == 0:\n",
    "            num /= 2\n",
    "            count += 1\n",
    "        else:\n",
    "            num -= 1\n",
    "            count += 1\n",
    "    return count\n",
    "\n",
    "numOfSteps(14)"
   ]
  },
  {
   "cell_type": "code",
   "execution_count": null,
   "metadata": {
    "collapsed": true
   },
   "outputs": [],
   "source": [
    "# Given the array nums, for each nums[i] find out how many numbers in the array are smaller than it. \n",
    "# That is, for each nums[i] you have to count the number of valid j's such that j != i and nums[j] < nums[i].\n",
    "\n",
    "# Return the answer in an array.\n",
    "\n",
    " \n",
    "\n",
    "# Example 1:\n",
    "\n",
    "# Input: nums = [8,1,2,2,3]\n",
    "# Output: [4,0,1,1,3]\n",
    "# Explanation: \n",
    "# For nums[0]=8 there exist four smaller numbers than it (1, 2, 2 and 3). \n",
    "# For nums[1]=1 does not exist any smaller number than it.\n",
    "# For nums[2]=2 there exist one smaller number than it (1). \n",
    "# For nums[3]=2 there exist one smaller number than it (1). \n",
    "# For nums[4]=3 there exist three smaller numbers than it (1, 2 and 2).\n",
    "\n",
    "# https://leetcode.com/problems/how-many-numbers-are-smaller-than-the-current-number/\n",
    "\n",
    "def smallerNumbersThanCurrent(nums):\n",
    "    res = [0] * len(nums)\n",
    "    for i in range(len(nums)):\n",
    "        for j in range(len(nums)):\n",
    "            if i != j and nums[i] > nums[j]:\n",
    "                res[i] += 1\n",
    "    return res\n",
    "\n",
    "#     d = {}\n",
    "#     for i, num in enumerate(nums):\n",
    "#         d[num] = i\n",
    "#     return [d[num] for num in nums]\n",
    "\n",
    "smallerNumbersThanCurrent([8,1,2,2,3])"
   ]
  },
  {
   "cell_type": "code",
   "execution_count": null,
   "metadata": {
    "collapsed": true
   },
   "outputs": [],
   "source": [
    "# Given two integer arrays startTime and endTime and given an integer queryTime.\n",
    "\n",
    "# The ith student started doing their homework at the time startTime[i] and finished it at time endTime[i].\n",
    "\n",
    "# Return the number of students doing their homework at time queryTime. More formally, return the number of students where \n",
    "# queryTime lays in the interval [startTime[i], endTime[i]] inclusive.\n",
    "\n",
    " \n",
    "\n",
    "# Example 1:\n",
    "\n",
    "# Input: startTime = [1,2,3], endTime = [3,2,7], queryTime = 4\n",
    "# Output: 1\n",
    "# Explanation: We have 3 students where:\n",
    "# The first student started doing homework at time 1 and finished at time 3 and wasn't doing anything at time 4.\n",
    "# The second student started doing homework at time 2 and finished at time 2 and also wasn't doing anything at time 4.\n",
    "# The third student started doing homework at time 3 and finished at time 7 and was the only student doing homework at \n",
    "# time 4.\n",
    "\n",
    "# https://leetcode.com/problems/number-of-students-doing-homework-at-a-given-time/\n",
    "\n",
    "def busyStudent(startTime, endTime, queryTime):\n",
    "    res = 0\n",
    "    for time in range(len(startTime)):\n",
    "        if queryTime >= startTime[time] and queryTime <= endTime[time]:\n",
    "            res += 1\n",
    "    return res\n",
    "\n",
    "busyStudent([1,2,3], [3,2,7], 4) #1\n",
    "busyStudent([9,8,7,6,5,4,3,2,1], [10,10,10,10,10,10,10,10,10], 5) #5\n",
    "busyStudent([4], [4], 4) #1\n",
    "busyStudent([16], [60], 58) #1"
   ]
  },
  {
   "cell_type": "code",
   "execution_count": null,
   "metadata": {
    "collapsed": true
   },
   "outputs": [],
   "source": [
    "# Given two arrays of integers nums and index. Your task is to create target array under the following rules:\n",
    "\n",
    "# Initially target array is empty.\n",
    "# From left to right read nums[i] and index[i], insert at index index[i] the value nums[i] in target array.\n",
    "# Repeat the previous step until there are no elements to read in nums and index.\n",
    "# Return the target array.\n",
    "\n",
    "# It is guaranteed that the insertion operations will be valid.\n",
    "\n",
    " \n",
    "\n",
    "# Example 1:\n",
    "\n",
    "# Input: nums = [0,1,2,3,4], index = [0,1,2,2,1]\n",
    "# Output: [0,4,1,3,2]\n",
    "# Explanation:\n",
    "# nums       index     target\n",
    "# 0            0        [0]\n",
    "# 1            1        [0,1]\n",
    "# 2            2        [0,1,2]\n",
    "# 3            2        [0,1,3,2]\n",
    "# 4            1        [0,4,1,3,2]\n",
    "\n",
    "# https://leetcode.com/problems/create-target-array-in-the-given-order/\n",
    "\n",
    "def createTargetArray(nums, index):\n",
    "    target = []\n",
    "    for i in range(len(index)):\n",
    "        target.insert(index[i], nums[i])\n",
    "    return target\n",
    "\n",
    "createTargetArray([0,1,2,3,4], [0,1,2,2,1])\n",
    "createTargetArray(nums = [1,2,3,4,0], index = [0,1,2,3,0])\n",
    "createTargetArray(nums = [1], index = [0])"
   ]
  },
  {
   "cell_type": "code",
   "execution_count": null,
   "metadata": {
    "collapsed": true
   },
   "outputs": [],
   "source": [
    "# Balanced strings are those who have equal quantity of 'L' and 'R' characters.\n",
    "\n",
    "# Given a balanced string s split it in the maximum amount of balanced strings.\n",
    "\n",
    "# Return the maximum amount of splitted balanced strings.\n",
    "\n",
    " \n",
    "\n",
    "# Example 1:\n",
    "\n",
    "# Input: s = \"RLRRLLRLRL\"\n",
    "# Output: 4\n",
    "# Explanation: s can be split into \"RL\", \"RRLL\", \"RL\", \"RL\", each substring contains same number of 'L' and 'R'.\n",
    "\n",
    "# https://leetcode.com/problems/split-a-string-in-balanced-strings/\n",
    "\n",
    "def balancedStringSplit(s):\n",
    "    count = 0\n",
    "    left, right = 0, 0\n",
    "    for char in s:\n",
    "        if char == 'L':\n",
    "            left += 1\n",
    "        else:\n",
    "            right += 1\n",
    "            \n",
    "        if left > 0 and left == right:\n",
    "            count += 1\n",
    "            left, right = 0, 0\n",
    "    return count\n",
    "\n",
    "balancedStringSplit('RLRRLLRLRL')"
   ]
  },
  {
   "cell_type": "code",
   "execution_count": null,
   "metadata": {
    "collapsed": true
   },
   "outputs": [],
   "source": [
    "# Given head which is a reference node to a singly-linked list. The value of each node in the linked list is either 0 or 1. \n",
    "# The linked list holds the binary representation of a number.\n",
    "\n",
    "# Return the decimal value of the number in the linked list.\n",
    "\n",
    "# Example: 1\n",
    "# Input: head = [1,0,1]\n",
    "# Output: 5\n",
    "# Explanation: (101) in base 2 = (5) in base 10\n",
    "\n",
    "# https://leetcode.com/problems/convert-binary-number-in-a-linked-list-to-integer/\n",
    "\n",
    "def getDecimalValue(head):\n",
    "    binary = ''\n",
    "    while head:\n",
    "        binary += str(head.val)\n",
    "        head = head.next\n",
    "    return int(binary, 2)"
   ]
  },
  {
   "cell_type": "code",
   "execution_count": null,
   "metadata": {
    "collapsed": true
   },
   "outputs": [],
   "source": [
    "# You are given the array paths, where paths[i] = [cityAi, cityBi] means there exists a direct path going from cityAi to \n",
    "# cityBi. Return the destination city, that is, the city without any path outgoing to another city.\n",
    "\n",
    "# It is guaranteed that the graph of paths forms a line without any loop, therefore, there will be exactly one destination \n",
    "# city.\n",
    "\n",
    " \n",
    "\n",
    "# Example 1:\n",
    "\n",
    "# Input: paths = [[\"London\",\"New York\"],[\"New York\",\"Lima\"],[\"Lima\",\"Sao Paulo\"]]\n",
    "# Output: \"Sao Paulo\" \n",
    "# Explanation: Starting at \"London\" city you will reach \"Sao Paulo\" city which is the destination city. Your trip \n",
    "#     consist of: \"London\" -> \"New York\" -> \"Lima\" -> \"Sao Paulo\".\n",
    "\n",
    "# https://leetcode.com/problems/destination-city/\n",
    "\n",
    "def destCity(paths):\n",
    "    d = {}\n",
    "    for path in paths:\n",
    "        d[path[0]] = path[1]\n",
    "#     print('Sao Paulo' in d)\n",
    "#     print('London' in d)\n",
    "#     print('Lima' in d)\n",
    "    for k, v in d.items():\n",
    "        if v not in d:\n",
    "            return v\n",
    "destCity([[\"London\",\"New York\"],[\"New York\",\"Lima\"],[\"Lima\",\"Sao Paulo\"]])"
   ]
  },
  {
   "cell_type": "code",
   "execution_count": null,
   "metadata": {
    "collapsed": true
   },
   "outputs": [],
   "source": [
    "# Given a positive integer num consisting only of digits 6 and 9.\n",
    "\n",
    "# Return the maximum number you can get by changing at most one digit (6 becomes 9, and 9 becomes 6).\n",
    "\n",
    " \n",
    "\n",
    "# Example 1:\n",
    "\n",
    "# Input: num = 9669\n",
    "# Output: 9969\n",
    "# Explanation: \n",
    "# Changing the first digit results in 6669.\n",
    "# Changing the second digit results in 9969.\n",
    "# Changing the third digit results in 9699.\n",
    "# Changing the fourth digit results in 9666. \n",
    "# The maximum number is 9969.\n",
    "\n",
    "# https://leetcode.com/problems/maximum-69-number/\n",
    "\n",
    "def max69Num(num):\n",
    "    num_str = str(num)\n",
    "    num_str = num_str.replace('6', '9', 1)\n",
    "    return num_str\n",
    "\n",
    "max69Num(9669)"
   ]
  },
  {
   "cell_type": "code",
   "execution_count": null,
   "metadata": {
    "collapsed": true
   },
   "outputs": [],
   "source": [
    "# Given an array of integers arr, write a function that returns true if and only if the number of occurrences of each \n",
    "# value in the array is unique.\n",
    "\n",
    " \n",
    "\n",
    "# Example 1:\n",
    "\n",
    "# Input: arr = [1,2,2,1,1,3]\n",
    "# Output: true\n",
    "# Explanation: The value 1 has 3 occurrences, 2 has 2 and 3 has 1. No two values have the same number of occurrences.\n",
    "# Example 2:\n",
    "\n",
    "# Input: arr = [1,2]\n",
    "# Output: false\n",
    "# Example 3:\n",
    "\n",
    "# Input: arr = [-3,0,1,-3,1,1,1,-3,10,0]\n",
    "# Output: true\n",
    "    \n",
    "# https://leetcode.com/problems/unique-number-of-occurrences/\n",
    "\n",
    "def uniqueOccurrence(arr):\n",
    "    d = {}\n",
    "    for i in arr:\n",
    "        d[i] = d.get(i, 0)+1\n",
    "    \n",
    "    values = list(d.values())\n",
    "    if len(values) == len(set(values)):\n",
    "        return True\n",
    "    return False\n",
    "\n",
    "    \n",
    "    \n",
    "uniqueOccurrence([1,2,2,1,1,3])\n",
    "# uniqueOccurrence([1,2])"
   ]
  },
  {
   "cell_type": "code",
   "execution_count": null,
   "metadata": {
    "collapsed": true
   },
   "outputs": [],
   "source": [
    "# 05/18"
   ]
  },
  {
   "cell_type": "code",
   "execution_count": null,
   "metadata": {
    "collapsed": true
   },
   "outputs": [],
   "source": [
    "# Given a string S that only contains \"I\" (increase) or \"D\" (decrease), let N = S.length.\n",
    "\n",
    "# Return any permutation A of [0, 1, ..., N] such that for all i = 0, ..., N-1:\n",
    "\n",
    "# If S[i] == \"I\", then A[i] < A[i+1]\n",
    "# If S[i] == \"D\", then A[i] > A[i+1]\n",
    " \n",
    "\n",
    "# Example 1:\n",
    "\n",
    "# Input: \"IDID\"\n",
    "# Output: [0,4,1,3,2]\n",
    "# Example 2:\n",
    "\n",
    "# Input: \"III\"\n",
    "# Output: [0,1,2,3]\n",
    "# Example 3:\n",
    "\n",
    "# Input: \"DDI\"\n",
    "# Output: [3,2,0,1]\n",
    "\n",
    "# https://leetcode.com/problems/di-string-match/\n",
    "\n",
    "def diStringMatch(s):\n",
    "    result = []\n",
    "    left, right = 0, len(s)\n",
    "    for char in s:\n",
    "        if char == 'I':\n",
    "            result.append(left)\n",
    "            left += 1\n",
    "        else:\n",
    "            result.append(right)\n",
    "            right -= 1\n",
    "    return result + [left] #left and right at same value so we can add one or the other\n",
    "\n",
    "diStringMatch(\"IDID\")"
   ]
  },
  {
   "cell_type": "code",
   "execution_count": null,
   "metadata": {
    "collapsed": true
   },
   "outputs": [],
   "source": [
    "# Given two integer arrays arr1 and arr2, and the integer d, return the distance value between the two arrays.\n",
    "\n",
    "# The distance value is defined as the number of elements arr1[i] such that there is not any element arr2[j] where \n",
    "# |arr1[i]-arr2[j]| <= d.\n",
    "\n",
    " \n",
    "\n",
    "# Example 1:\n",
    "\n",
    "# Input: arr1 = [4,5,8], arr2 = [10,9,1,8], d = 2\n",
    "# Output: 2\n",
    "# Explanation: \n",
    "# For arr1[0]=4 we have: \n",
    "# |4-10|=6 > d=2 \n",
    "# |4-9|=5 > d=2 \n",
    "# |4-1|=3 > d=2 \n",
    "# |4-8|=4 > d=2 \n",
    "# For arr1[1]=5 we have: \n",
    "# |5-10|=5 > d=2 \n",
    "# |5-9|=4 > d=2 \n",
    "# |5-1|=4 > d=2 \n",
    "# |5-8|=3 > d=2\n",
    "# For arr1[2]=8 we have:\n",
    "# |8-10|=2 <= d=2\n",
    "# |8-9|=1 <= d=2\n",
    "# |8-1|=7 > d=2\n",
    "# |8-8|=0 <= d=2\n",
    "\n",
    "# https://leetcode.com/problems/find-the-distance-value-between-two-arrays/\n",
    "\n",
    "def findDistance(arr1, arr2, d):\n",
    "    count = 0\n",
    "    n = len(arr1)\n",
    "    for i in arr1:\n",
    "        for j in arr2:\n",
    "#             print('i:', i, 'j:', j)\n",
    "            #check if abs(i-j) <= d because we need to subtract it off from number of elements for distance value\n",
    "            if abs(i-j) <= d:\n",
    "                count += 1\n",
    "#                 print('i:', i, 'j:', j)\n",
    "#                 print('count:', count)\n",
    "                break\n",
    "    return n-count\n",
    "\n",
    "findDistance([4,5,8], [10,9,1,8], 2)"
   ]
  },
  {
   "cell_type": "code",
   "execution_count": 14,
   "metadata": {},
   "outputs": [
    {
     "data": {
      "text/plain": [
       "[2, 2, 2, 1, 4, 3, 3, 9, 6, 7, 19]"
      ]
     },
     "execution_count": 14,
     "metadata": {},
     "output_type": "execute_result"
    }
   ],
   "source": [
    "# Given two arrays arr1 and arr2, the elements of arr2 are distinct, and all elements in arr2 are also in arr1.\n",
    "\n",
    "# Sort the elements of arr1 such that the relative ordering of items in arr1 are the same as in arr2.  Elements that \n",
    "# don't appear in arr2 should be placed at the end of arr1 in ascending order.\n",
    "\n",
    " \n",
    "\n",
    "# Example 1:\n",
    "\n",
    "# Input: arr1 = [2,3,1,3,2,4,6,7,9,2,19], arr2 = [2,1,4,3,9,6]\n",
    "# Output: [2,2,2,1,4,3,3,9,6,7,19]\n",
    "\n",
    "# https://leetcode.com/problems/relative-sort-array/\n",
    "\n",
    "def relativeSort(arr1, arr2):\n",
    "    d = {}\n",
    "    result = []\n",
    "    for i in arr1: #count elements in arr1\n",
    "        d[i] = d.get(i, 0) +1\n",
    "        \n",
    "    for i in arr2: #extend elements from arr2 into result based on counts of it appearing in arr1 and delete from d\n",
    "        result.extend([i] * d[i])\n",
    "        del d[i]\n",
    "        \n",
    "    missing = sorted(d.keys()) #sort missing elements\n",
    "    for i in missing: #extend missing elements and their count into result \n",
    "        result.extend([i] * d[i])\n",
    "    return result\n",
    "\n",
    "relativeSort([2,3,1,3,2,4,6,7,9,2,19], [2,1,4,3,9,6])"
   ]
  },
  {
   "cell_type": "code",
   "execution_count": 24,
   "metadata": {},
   "outputs": [
    {
     "data": {
      "text/plain": [
       "'ca'"
      ]
     },
     "execution_count": 24,
     "metadata": {},
     "output_type": "execute_result"
    }
   ],
   "source": [
    "# Given a string S of lowercase letters, a duplicate removal consists of choosing two adjacent and equal letters, and \n",
    "# removing them.\n",
    "\n",
    "# We repeatedly make duplicate removals on S until we no longer can.\n",
    "\n",
    "# Return the final string after all such duplicate removals have been made.  It is guaranteed the answer is unique.\n",
    "\n",
    " \n",
    "\n",
    "# Example 1:\n",
    "\n",
    "# Input: \"abbaca\"\n",
    "# Output: \"ca\"\n",
    "# Explanation: \n",
    "# For example, in \"abbaca\" we could remove \"bb\" since the letters are adjacent and equal, and this is the only possible move \n",
    "# The result of this move is that the string is \"aaca\", of which only \"aa\" is possible, so the final string is \"ca\".\n",
    "\n",
    "# https://leetcode.com/problems/remove-all-adjacent-duplicates-in-string/\n",
    "\n",
    "def removeDuplicates(s):\n",
    "    result = []\n",
    "    for char in s:\n",
    "        if result and char == result[-1]: \n",
    "            result.pop()\n",
    "        else: \n",
    "            result.append(char)\n",
    "    return ''.join(result)\n",
    "\n",
    "removeDuplicates('abbaca')"
   ]
  },
  {
   "cell_type": "code",
   "execution_count": 51,
   "metadata": {},
   "outputs": [
    {
     "data": {
      "text/plain": [
       "6"
      ]
     },
     "execution_count": 51,
     "metadata": {},
     "output_type": "execute_result"
    }
   ],
   "source": [
    "# You are given an array of strings words and a string chars.\n",
    "\n",
    "# A string is good if it can be formed by characters from chars (each character can only be used once).\n",
    "\n",
    "# Return the sum of lengths of all good strings in words.\n",
    "\n",
    " \n",
    "\n",
    "# Example 1:\n",
    "\n",
    "# Input: words = [\"cat\",\"bt\",\"hat\",\"tree\"], chars = \"atach\"\n",
    "# Output: 6\n",
    "# Explanation: \n",
    "# The strings that can be formed are \"cat\" and \"hat\" so the answer is 3 + 3 = 6.\n",
    "\n",
    "# https://leetcode.com/problems/find-words-that-can-be-formed-by-characters/\n",
    "\n",
    "import collections\n",
    "\n",
    "def countCharacters(words, chars):\n",
    "    result, chars_counter = 0, collections.Counter(chars)\n",
    "    for word in words:\n",
    "        word_counter = collections.Counter(word)\n",
    "        for char in word_counter:\n",
    "            if word_counter[char] > chars_counter[char]:\n",
    "                break\n",
    "        else:\n",
    "            result += len(word)\n",
    "    return result\n",
    "\n",
    "countCharacters([\"cat\",\"bt\",\"hat\",\"tree\"], 'atach')"
   ]
  },
  {
   "cell_type": "code",
   "execution_count": 60,
   "metadata": {},
   "outputs": [
    {
     "data": {
      "text/plain": [
       "7"
      ]
     },
     "execution_count": 60,
     "metadata": {},
     "output_type": "execute_result"
    }
   ],
   "source": [
    "# Given an array of integers arr, a lucky integer is an integer which has a frequency in the array equal to its value.\n",
    "\n",
    "# Return a lucky integer in the array. If there are multiple lucky integers return the largest of them. If there is no \n",
    "# lucky integer return -1.\n",
    "\n",
    " \n",
    "\n",
    "# Example 1:\n",
    "\n",
    "# Input: arr = [2,2,3,4]\n",
    "# Output: 2\n",
    "# Explanation: The only lucky number in the array is 2 because frequency[2] == 2.\n",
    "\n",
    "def findLucky(arr):\n",
    "    max_count = 0\n",
    "    for num in arr:\n",
    "        count = arr.count(num)\n",
    "        if count == num:\n",
    "            max_count = max(max_count, num)\n",
    "            \n",
    "    return -1 if max_count == 0 else max_count\n",
    "\n",
    "findLucky([7,7,7,7,7,7,7])"
   ]
  },
  {
   "cell_type": "code",
   "execution_count": 70,
   "metadata": {},
   "outputs": [
    {
     "data": {
      "text/plain": [
       "'Sunday'"
      ]
     },
     "execution_count": 70,
     "metadata": {},
     "output_type": "execute_result"
    }
   ],
   "source": [
    "# Given a date, return the corresponding day of the week for that date.\n",
    "\n",
    "# The input is given as three integers representing the day, month and year respectively.\n",
    "\n",
    "# Return the answer as one of the following values \n",
    "# {\"Sunday\", \"Monday\", \"Tuesday\", \"Wednesday\", \"Thursday\", \"Friday\", \"Saturday\"}.\n",
    "\n",
    " \n",
    "\n",
    "# Example 1:\n",
    "\n",
    "# Input: day = 31, month = 8, year = 2019\n",
    "# Output: \"Saturday\"\n",
    "# Example 2:\n",
    "\n",
    "# Input: day = 18, month = 7, year = 1999\n",
    "# Output: \"Sunday\"\n",
    "# Example 3:\n",
    "\n",
    "# Input: day = 15, month = 8, year = 1993\n",
    "# Output: \"Sunday\"\n",
    "\n",
    "# https://leetcode.com/problems/day-of-the-week/\n",
    "\n",
    "def dayOfTheWeek(day, month, year):\n",
    "    from datetime import datetime\n",
    "    days = {0: 'Monday', 1: 'Tuesday', 2: 'Wednesday', 3: 'Thursday', 4: 'Friday', 5: 'Saturday', 6: 'Sunday'}\n",
    "    my_date = datetime(year, month, day).date()\n",
    "    return days[my_date.weekday()]\n",
    "\n",
    "dayOfTheWeek(31, 8, 2019)\n",
    "dayOfTheWeek(18, 7, 1999)\n",
    "dayOfTheWeek(15, 8, 1993)"
   ]
  },
  {
   "cell_type": "code",
   "execution_count": 73,
   "metadata": {},
   "outputs": [
    {
     "data": {
      "text/plain": [
       "[8, 6, 2, 4]"
      ]
     },
     "execution_count": 73,
     "metadata": {},
     "output_type": "execute_result"
    }
   ],
   "source": [
    "# We have an array A of integers, and an array queries of queries.\n",
    "\n",
    "# For the i-th query val = queries[i][0], index = queries[i][1], we add val to A[index].  Then, the answer to the i-th\n",
    "# query is the sum of the even values of A.\n",
    "\n",
    "# (Here, the given index = queries[i][1] is a 0-based index, and each query permanently modifies the array A.)\n",
    "\n",
    "# Return the answer to all queries.  Your answer array should have answer[i] as the answer to the i-th query.\n",
    "\n",
    " \n",
    "\n",
    "# Example 1:\n",
    "\n",
    "# Input: A = [1,2,3,4], queries = [[1,0],[-3,1],[-4,0],[2,3]]\n",
    "# Output: [8,6,2,4]\n",
    "# Explanation: \n",
    "# At the beginning, the array is [1,2,3,4].\n",
    "# After adding 1 to A[0], the array is [2,2,3,4], and the sum of even values is 2 + 2 + 4 = 8.\n",
    "# After adding -3 to A[1], the array is [2,-1,3,4], and the sum of even values is 2 + 4 = 6.\n",
    "# After adding -4 to A[0], the array is [-2,-1,3,4], and the sum of even values is -2 + 4 = 2.\n",
    "# After adding 2 to A[3], the array is [-2,-1,3,6], and the sum of even values is -2 + 6 = 4.\n",
    "\n",
    "# https://leetcode.com/problems/sum-of-even-numbers-after-queries/\n",
    "\n",
    "def sumEventAfterQueries(A, queries):\n",
    "    result = []\n",
    "    curr_sum = 0\n",
    "    for val, i in queries:\n",
    "        A[i] += val\n",
    "        for num in A:\n",
    "            if num % 2 == 0:\n",
    "                curr_sum += num\n",
    "        result.append(curr_sum)\n",
    "        curr_sum = 0\n",
    "    return result\n",
    "    \n",
    "    #OPTIMAL SOLUTION FROM SOLUTION TAB\n",
    "    S = sum(x for x in A if x % 2 == 0)\n",
    "    ans = []\n",
    "\n",
    "    for x, k in queries:\n",
    "        if A[k] % 2 == 0: \n",
    "            S -= A[k]\n",
    "        A[k] += x\n",
    "        if A[k] % 2 == 0: \n",
    "            S += A[k]\n",
    "        ans.append(S)\n",
    "\n",
    "    return ans\n",
    "\n",
    "sumEventAfterQueries(A = [1,2,3,4], queries = [[1,0],[-3,1],[-4,0],[2,3]])"
   ]
  },
  {
   "cell_type": "code",
   "execution_count": 79,
   "metadata": {},
   "outputs": [
    {
     "data": {
      "text/plain": [
       "3"
      ]
     },
     "execution_count": 79,
     "metadata": {},
     "output_type": "execute_result"
    }
   ],
   "source": [
    "# Given an integer array with even length, where different numbers in this array represent different kinds of candies. \n",
    "# Each number means one candy of the corresponding kind. You need to distribute these candies equally in number to brother \n",
    "# and sister. Return the maximum number of kinds of candies the sister could gain.\n",
    "# Example 1:\n",
    "# Input: candies = [1,1,2,2,3,3]\n",
    "# Output: 3\n",
    "# Explanation:\n",
    "# There are three different kinds of candies (1, 2 and 3), and two candies for each kind.\n",
    "# Optimal distribution: The sister has candies [1,2,3] and the brother has candies [1,2,3], too. \n",
    "# The sister has three different kinds of candies. \n",
    "# Example 2:\n",
    "# Input: candies = [1,1,2,3]\n",
    "# Output: 2\n",
    "# Explanation: For example, the sister has candies [2,3] and the brother has candies [1,1]. \n",
    "# The sister has two different kinds of candies, the brother has only one kind of candies. \n",
    "\n",
    "# https://leetcode.com/problems/distribute-candies/\n",
    "\n",
    "def distributeCandies(candies):\n",
    "    unique_candy = set(candies)\n",
    "    #want the min since in example2 we have 3 unique candies but max she can have is 2 (len(candies)//2)\n",
    "    return min(len(unique_candy), len(candies)//2) \n",
    "\n",
    "distributeCandies([1,1,2,2,3,3])"
   ]
  },
  {
   "cell_type": "code",
   "execution_count": 88,
   "metadata": {},
   "outputs": [
    {
     "data": {
      "text/plain": [
       "[1, 3, 12, 0, 0]"
      ]
     },
     "execution_count": 88,
     "metadata": {},
     "output_type": "execute_result"
    }
   ],
   "source": [
    "# Given an array nums, write a function to move all 0's to the end of it while maintaining the relative order of the \n",
    "# non-zero elements.\n",
    "\n",
    "# Example:\n",
    "\n",
    "# Input: [0,1,0,3,12]\n",
    "# Output: [1,3,12,0,0]\n",
    "\n",
    "# https://leetcode.com/problems/move-zeroes/\n",
    "\n",
    "def moveZeroes(num):\n",
    "    for i in num:\n",
    "        if i == 0:\n",
    "            num.remove(i)\n",
    "            num.append(0)\n",
    "    return num\n",
    "\n",
    "    #2 pointer\n",
    "#     left, right = 0, len(num)\n",
    "#     while left < right:\n",
    "#         if num[left] == 0:\n",
    "#             num.remove(num[left])\n",
    "#             num.append(0)\n",
    "#             right -= 1\n",
    "#         else:\n",
    "#             left += 1\n",
    "#     return num\n",
    "\n",
    "moveZeroes([0,1,0,3,12])"
   ]
  },
  {
   "cell_type": "code",
   "execution_count": 95,
   "metadata": {
    "collapsed": true
   },
   "outputs": [],
   "source": [
    "# Given an array where elements are sorted in ascending order, convert it to a height balanced BST.\n",
    "\n",
    "# For this problem, a height-balanced binary tree is defined as a binary tree in which the depth of the two subtrees of \n",
    "# every node never differ by more than 1.\n",
    "\n",
    "# Example:\n",
    "\n",
    "# Given the sorted array: [-10,-3,0,5,9],\n",
    "\n",
    "# One possible answer is: [0,-3,9,-10,null,5], which represents the following height balanced BST:\n",
    "\n",
    "#       0\n",
    "#      / \\\n",
    "#    -3   9\n",
    "#    /   /\n",
    "#  -10  5\n",
    "\n",
    "# https://leetcode.com/problems/convert-sorted-array-to-binary-search-tree/\n",
    "\n",
    "# class TreeNode:\n",
    "#     def __init__(self, x):\n",
    "#         self.val = x\n",
    "#         self.left = None\n",
    "#         self.right = None\n",
    "\n",
    "# A BST is where every node to the left\n",
    "def sortedArrayToBST(nums):\n",
    "    def helper(left, right):\n",
    "        if left > right:\n",
    "            return None\n",
    "        mid = (left+right)//2\n",
    "\n",
    "        node = TreeNode(nums[mid])\n",
    "        node.left = helper(left, mid-1)\n",
    "        node.right = helper(mid+1, right)\n",
    "        return node\n",
    "    return helper(0, len(nums)-1)"
   ]
  },
  {
   "cell_type": "code",
   "execution_count": 99,
   "metadata": {},
   "outputs": [
    {
     "data": {
      "text/plain": [
       "False"
      ]
     },
     "execution_count": 99,
     "metadata": {},
     "output_type": "execute_result"
    }
   ],
   "source": [
    "# Given two strings s and t , write a function to determine if t is an anagram of s.\n",
    "\n",
    "# Example 1:\n",
    "\n",
    "# Input: s = \"anagram\", t = \"nagaram\"\n",
    "# Output: true\n",
    "# Example 2:\n",
    "\n",
    "# Input: s = \"rat\", t = \"car\"\n",
    "# Output: false\n",
    "\n",
    "# https://leetcode.com/problems/valid-anagram/\n",
    "\n",
    "def anagram(s, t):\n",
    "    d1 = {}\n",
    "    d2 = {}\n",
    "    \n",
    "    for i in s:\n",
    "        d1[i] = d1.get(i, 0)+1\n",
    "    for i in t:\n",
    "        d2[i] = d2.get(i, 0)+1\n",
    "    return d1 == d2\n",
    "\n",
    "#     import collections\n",
    "#     d1 = collections.Counter(s)\n",
    "#     d2 = collections.Counter(t)\n",
    "#     return d1 == d2\n",
    "\n",
    "anagram(s = \"anagram\", t = \"nagaram\")\n",
    "anagram(s = \"rat\", t = \"car\")"
   ]
  },
  {
   "cell_type": "code",
   "execution_count": 110,
   "metadata": {},
   "outputs": [
    {
     "data": {
      "text/plain": [
       "[1, 0, 0, 2, 3, 0, 0, 4]"
      ]
     },
     "execution_count": 110,
     "metadata": {},
     "output_type": "execute_result"
    }
   ],
   "source": [
    "# Given a fixed length array arr of integers, duplicate each occurrence of zero, shifting the remaining elements to the right.\n",
    "\n",
    "# Note that elements beyond the length of the original array are not written.\n",
    "\n",
    "# Do the above modifications to the input array in place, do not return anything from your function.\n",
    "\n",
    " \n",
    "\n",
    "# Example 1:\n",
    "\n",
    "# Input: [1,0,2,3,0,4,5,0]\n",
    "# Output: null\n",
    "# Explanation: After calling your function, the input array is modified to: [1,0,0,2,3,0,0,4]\n",
    "# Example 2:\n",
    "\n",
    "# Input: [1,2,3]\n",
    "# Output: null\n",
    "# Explanation: After calling your function, the input array is modified to: [1,2,3]\n",
    "\n",
    "# https://leetcode.com/problems/duplicate-zeros/\n",
    "\n",
    "def duplicateZeroes(arr):\n",
    "    start = 0\n",
    "    end = len(arr)\n",
    "    while start < end:\n",
    "        if arr[start] == 0:\n",
    "            arr[start:start] = [0]\n",
    "            start += 1\n",
    "        start += 1\n",
    "    arr[:] = arr[:end]\n",
    "    \n",
    "    return arr\n",
    "\n",
    "duplicateZeroes([1,0,2,3,0,4,5,0])"
   ]
  },
  {
   "cell_type": "code",
   "execution_count": 112,
   "metadata": {},
   "outputs": [
    {
     "data": {
      "text/plain": [
       "True"
      ]
     },
     "execution_count": 112,
     "metadata": {},
     "output_type": "execute_result"
    }
   ],
   "source": [
    "# At a lemonade stand, each lemonade costs $5. \n",
    "\n",
    "# Customers are standing in a queue to buy from you, and order one at a time (in the order specified by bills).\n",
    "\n",
    "# Each customer will only buy one lemonade and pay with either a $5, $10, or $20 bill.  You must provide the correct change \n",
    "# to each customer, so that the net transaction is that the customer pays $5.\n",
    "\n",
    "# Note that you don't have any change in hand at first.\n",
    "\n",
    "# Return true if and only if you can provide every customer with correct change.\n",
    "\n",
    " \n",
    "\n",
    "# Example 1:\n",
    "\n",
    "# Input: [5,5,5,10,20]\n",
    "# Output: true\n",
    "# Explanation: \n",
    "# From the first 3 customers, we collect three $5 bills in order.\n",
    "# From the fourth customer, we collect a $10 bill and give back a $5.\n",
    "# From the fifth customer, we give a $10 bill and a $5 bill.\n",
    "# Since all customers got correct change, we output true.\n",
    "\n",
    "# https://leetcode.com/problems/lemonade-change/\n",
    "\n",
    "def lemonadeChange(bills):\n",
    "    fives, tens = 0, 0\n",
    "    for bill in bills:\n",
    "        if bill == 5:\n",
    "            fives += 1\n",
    "        elif bill == 10:\n",
    "            if not fives:\n",
    "                return False\n",
    "            fives -= 1\n",
    "            tens += 1\n",
    "        else:\n",
    "            if tens and fives:\n",
    "                tens -= 1\n",
    "                fives -= 1\n",
    "            elif fives >= 3:\n",
    "                fives -= 3\n",
    "            else:\n",
    "                return False\n",
    "    return True\n",
    "\n",
    "lemonadeChange([5,5,5,10,20])"
   ]
  },
  {
   "cell_type": "code",
   "execution_count": 113,
   "metadata": {},
   "outputs": [
    {
     "data": {
      "text/plain": [
       "4"
      ]
     },
     "execution_count": 113,
     "metadata": {},
     "output_type": "execute_result"
    }
   ],
   "source": [
    "# Given a sorted (in ascending order) integer array nums of n elements and a target value, write a function to search \n",
    "# target in nums. If target exists, then return its index, otherwise return -1.\n",
    "\n",
    "\n",
    "# Example 1:\n",
    "\n",
    "# Input: nums = [-1,0,3,5,9,12], target = 9\n",
    "# Output: 4\n",
    "# Explanation: 9 exists in nums and its index is 4\n",
    "\n",
    "# Example 2:\n",
    "\n",
    "# Input: nums = [-1,0,3,5,9,12], target = 2\n",
    "# Output: -1\n",
    "# Explanation: 2 does not exist in nums so return -1\n",
    "\n",
    "def binarySearch(nums, target):\n",
    "    left, right = 0, len(nums)-1\n",
    "    while left <= right:\n",
    "        mid = (left+right)//2\n",
    "        if nums[mid] == target:\n",
    "            return mid\n",
    "        if target < nums[mid]:\n",
    "            right = mid-1\n",
    "        else:\n",
    "            left = mid+1\n",
    "    return -1\n",
    "\n",
    "binarySearch(nums = [-1,0,3,5,9,12], target = 9)"
   ]
  },
  {
   "cell_type": "code",
   "execution_count": 114,
   "metadata": {
    "collapsed": true
   },
   "outputs": [],
   "source": [
    "# 05/19"
   ]
  },
  {
   "cell_type": "code",
   "execution_count": 117,
   "metadata": {},
   "outputs": [
    {
     "data": {
      "text/plain": [
       "2"
      ]
     },
     "execution_count": 117,
     "metadata": {},
     "output_type": "execute_result"
    }
   ],
   "source": [
    "# Given an array containing n distinct numbers taken from 0, 1, 2, ..., n, find the one that is missing from the array.\n",
    "\n",
    "# Example 1:\n",
    "\n",
    "# Input: [3,0,1]\n",
    "# Output: 2\n",
    "# Example 2:\n",
    "\n",
    "# Input: [9,6,4,2,3,5,7,0,1]\n",
    "# Output: 8\n",
    "\n",
    "# https://leetcode.com/problems/missing-number/\n",
    "\n",
    "def missingNumber(nums):\n",
    "    nums.sort()\n",
    "    result = 0\n",
    "    for i in nums:\n",
    "        if i != result:\n",
    "            return result\n",
    "        result += 1\n",
    "    return result\n",
    "    \n",
    "    #Hash set optimized\n",
    "#     num_set = set(nums)\n",
    "#     for i in range(len(nums)+1):\n",
    "#         if i not in num_set:\n",
    "#             return number\n",
    "\n",
    "missingNumber([3,0,1])"
   ]
  },
  {
   "cell_type": "code",
   "execution_count": 133,
   "metadata": {},
   "outputs": [
    {
     "data": {
      "text/plain": [
       "['Shogun']"
      ]
     },
     "execution_count": 133,
     "metadata": {},
     "output_type": "execute_result"
    }
   ],
   "source": [
    "# Suppose Andy and Doris want to choose a restaurant for dinner, and they both have a list of favorite restaurants \n",
    "# represented by strings.\n",
    "\n",
    "# You need to help them find out their common interest with the least list index sum. If there is a choice tie between \n",
    "# answers, output all of them with no order requirement. You could assume there always exists an answer.\n",
    "\n",
    "# Example 1:\n",
    "# Input:\n",
    "# [\"Shogun\", \"Tapioca Express\", \"Burger King\", \"KFC\"]\n",
    "# [\"Piatti\", \"The Grill at Torrey Pines\", \"Hungry Hunter Steakhouse\", \"Shogun\"]\n",
    "# Output: [\"Shogun\"]\n",
    "# Explanation: The only restaurant they both like is \"Shogun\".\n",
    "# Example 2:\n",
    "# Input:\n",
    "# [\"Shogun\", \"Tapioca Express\", \"Burger King\", \"KFC\"]\n",
    "# [\"KFC\", \"Shogun\", \"Burger King\"]\n",
    "# Output: [\"Shogun\"]\n",
    "# Explanation: The restaurant they both like and have the least index sum is \"Shogun\" with index sum 1 (0+1).\n",
    "\n",
    "# https://leetcode.com/problems/minimum-index-sum-of-two-lists/\n",
    "\n",
    "def findRestaurant(list1, list2):\n",
    "    #d1 is list1 with restaurant as key and index as value, d2 is the sum of index as key and shared restaurant as value\n",
    "    d1, d2 = {}, {}\n",
    "    min_sum = len(list1) + len(list2)\n",
    "    \n",
    "    for i, r in enumerate(list1):\n",
    "        d1[r] = i\n",
    "#     print(min_sum)\n",
    "#     print(d1)\n",
    "    for i, r in enumerate(list2):\n",
    "        if r in d1:\n",
    "            temp_sum = d1[r] + i\n",
    "            d2[temp_sum] = d2.get(temp_sum, []) + [r]\n",
    "            min_sum = min(temp_sum, min_sum)\n",
    "#             print(temp_sum, d2[temp_sum], min_sum)\n",
    "#     print(d2)\n",
    "    return d2[min_sum]\n",
    "\n",
    "# findRestaurant([\"Shogun\", \"Tapioca Express\", \"Burger King\", \"KFC\"], \n",
    "#                [\"Piatti\", \"The Grill at Torrey Pines\", \"Hungry Hunter Steakhouse\", \"Shogun\"])\n",
    "\n",
    "findRestaurant([\"Shogun\", \"Tapioca Express\", \"Burger King\", \"KFC\"], [\"KFC\", \"Shogun\", \"Burger King\"])"
   ]
  },
  {
   "cell_type": "code",
   "execution_count": 134,
   "metadata": {},
   "outputs": [
    {
     "data": {
      "text/plain": [
       "5"
      ]
     },
     "execution_count": 134,
     "metadata": {},
     "output_type": "execute_result"
    }
   ],
   "source": [
    "# Say you have an array for which the ith element is the price of a given stock on day i.\n",
    "\n",
    "# If you were only permitted to complete at most one transaction (i.e., buy one and sell one share of the stock), \n",
    "# design an algorithm to find the maximum profit.\n",
    "\n",
    "# Note that you cannot sell a stock before you buy one.\n",
    "\n",
    "# Example 1:\n",
    "\n",
    "# Input: [7,1,5,3,6,4]\n",
    "# Output: 5\n",
    "# Explanation: Buy on day 2 (price = 1) and sell on day 5 (price = 6), profit = 6-1 = 5.\n",
    "#              Not 7-1 = 6, as selling price needs to be larger than buying price.\n",
    "# Example 2:\n",
    "\n",
    "# Input: [7,6,4,3,1]\n",
    "# Output: 0\n",
    "# Explanation: In this case, no transaction is done, i.e. max profit = 0.\n",
    "\n",
    "# https://leetcode.com/problems/best-time-to-buy-and-sell-stock/\n",
    "\n",
    "def maxProfit(prices):\n",
    "    \n",
    "    if len(prices) < 0:\n",
    "        return 0\n",
    "    \n",
    "    max_profit = 0\n",
    "    min_price = float('inf')\n",
    "    \n",
    "    for price in prices:\n",
    "        if price < min_price:\n",
    "            min_price = price\n",
    "        elif price-min_price > max_profit:\n",
    "            max_profit = price-min_price\n",
    "    return max_profit\n",
    "\n",
    "maxProfit([7,1,5,3,6,4])"
   ]
  },
  {
   "cell_type": "code",
   "execution_count": 136,
   "metadata": {},
   "outputs": [
    {
     "data": {
      "text/plain": [
       "True"
      ]
     },
     "execution_count": 136,
     "metadata": {},
     "output_type": "execute_result"
    }
   ],
   "source": [
    "# Write an algorithm to determine if a number n is \"happy\".\n",
    "\n",
    "# A happy number is a number defined by the following process: Starting with any positive integer, replace the number \n",
    "#     by the sum of the squares of its digits, and repeat the process until the number equals 1 (where it will stay), or it \n",
    "#     loops endlessly in a cycle which does not include 1. Those numbers for which this process ends in 1 are happy numbers.\n",
    "\n",
    "# Return True if n is a happy number, and False if not.\n",
    "\n",
    "# Example: \n",
    "\n",
    "# Input: 19\n",
    "# Output: true\n",
    "# Explanation: \n",
    "# 1^2 + 9^2 = 82\n",
    "# 8^2 + 2^2 = 68\n",
    "# 6^2 + 8^2 = 100\n",
    "# 1^2 + 0^2 + 0^2 = 1\n",
    "\n",
    "# https://leetcode.com/problems/happy-number/\n",
    "\n",
    "def happyNumber(n):\n",
    "    s = set()\n",
    "    while n != 1:\n",
    "        if n in s:\n",
    "            return False\n",
    "        s.add(n)\n",
    "        n = sum([int(i)**2 for i in str(n)])\n",
    "    return True\n",
    "\n",
    "happyNumber(19)"
   ]
  },
  {
   "cell_type": "code",
   "execution_count": 138,
   "metadata": {},
   "outputs": [
    {
     "data": {
      "text/plain": [
       "True"
      ]
     },
     "execution_count": 138,
     "metadata": {},
     "output_type": "execute_result"
    }
   ],
   "source": [
    "# We are given two strings, A and B.\n",
    "\n",
    "# A shift on A consists of taking string A and moving the leftmost character to the rightmost position. \n",
    "# For example, if A = 'abcde', then it will be 'bcdea' after one shift on A. Return True if and only if A can become B \n",
    "# after some number of shifts on A.\n",
    "\n",
    "# Example 1:\n",
    "# Input: A = 'abcde', B = 'cdeab'\n",
    "# Output: true\n",
    "\n",
    "# Example 2:\n",
    "# Input: A = 'abcde', B = 'abced'\n",
    "# Output: false\n",
    "\n",
    "# https://leetcode.com/problems/rotate-string/\n",
    "\n",
    "def rotateString(a, b):\n",
    "    return len(a) == len(b) and b in a+a\n",
    "\n",
    "rotateString('abcde', 'cdeab')"
   ]
  },
  {
   "cell_type": "code",
   "execution_count": 186,
   "metadata": {},
   "outputs": [
    {
     "name": "stdout",
     "output_type": "stream",
     "text": [
      "[0, 1, 3, 0, 4, 0, 4, 2]\n",
      "[2, 2, 2, 3]\n"
     ]
    },
    {
     "data": {
      "text/plain": [
       "2"
      ]
     },
     "execution_count": 186,
     "metadata": {},
     "output_type": "execute_result"
    }
   ],
   "source": [
    "# Given an array nums and a value val, remove all instances of that value in-place and return the new length.\n",
    "\n",
    "# Do not allocate extra space for another array, you must do this by modifying the input array in-place with O(1) extra \n",
    "# memory.\n",
    "\n",
    "# The order of elements can be changed. It doesn't matter what you leave beyond the new length.\n",
    "\n",
    "# Example 1:\n",
    "\n",
    "# Given nums = [3,2,2,3], val = 3,\n",
    "\n",
    "# Your function should return length = 2, with the first two elements of nums being 2.\n",
    "\n",
    "# It doesn't matter what you leave beyond the returned length.\n",
    "# Example 2:\n",
    "\n",
    "# Given nums = [0,1,2,2,3,0,4,2], val = 2,\n",
    "\n",
    "# Your function should return length = 5, with the first five elements of nums containing 0, 1, 3, 0, and 4.\n",
    "\n",
    "# Note that the order of those five elements can be arbitrary.\n",
    "\n",
    "# It doesn't matter what values are set beyond the returned length.\n",
    "\n",
    "# https://leetcode.com/problems/remove-element/\n",
    "\n",
    "def removeElement(nums, val):\n",
    "    count = 0\n",
    "    for i in range(len(nums)):\n",
    "        if nums[i] != val:\n",
    "            nums[count] = nums[i]\n",
    "            count += 1\n",
    "    print(nums)\n",
    "    return count\n",
    "\n",
    "removeElement([0,1,2,2,3,0,4,2], 2) # 5\n",
    "\n",
    "removeElement([3,2,2,3], 3) #2"
   ]
  },
  {
   "cell_type": "code",
   "execution_count": 158,
   "metadata": {},
   "outputs": [
    {
     "data": {
      "text/plain": [
       "True"
      ]
     },
     "execution_count": 158,
     "metadata": {},
     "output_type": "execute_result"
    }
   ],
   "source": [
    "# Determine whether an integer is a palindrome. An integer is a palindrome when it reads the same backward as forward.\n",
    "\n",
    "# Example 1:\n",
    "\n",
    "# Input: 121\n",
    "# Output: true\n",
    "# Example 2:\n",
    "\n",
    "# Input: -121\n",
    "# Output: false\n",
    "# Explanation: From left to right, it reads -121. From right to left, it becomes 121-. Therefore it is not a palindrome.\n",
    "# Example 3:\n",
    "\n",
    "# Input: 10\n",
    "# Output: false\n",
    "# Explanation: Reads 01 from right to left. Therefore it is not a palindrome.\n",
    "\n",
    "# https://leetcode.com/problems/palindrome-number/\n",
    "\n",
    "def palindromeNumber(x):\n",
    "    copy = ''.join(reversed(str(x)))\n",
    "    s = str(x)\n",
    "    \n",
    "    if s != copy:\n",
    "        return False\n",
    "    return True\n",
    "\n",
    "palindromeNumber(121)"
   ]
  },
  {
   "cell_type": "code",
   "execution_count": 161,
   "metadata": {},
   "outputs": [
    {
     "data": {
      "text/plain": [
       "True"
      ]
     },
     "execution_count": 161,
     "metadata": {},
     "output_type": "execute_result"
    }
   ],
   "source": [
    "# You are given a string representing an attendance record for a student. The record only contains the following three \n",
    "# characters:\n",
    "# 'A' : Absent.\n",
    "# 'L' : Late.\n",
    "# 'P' : Present.\n",
    "# A student could be rewarded if his attendance record doesn't contain more than one 'A' (absent) or more than two \n",
    "# continuous 'L' (late).\n",
    "\n",
    "# You need to return whether the student could be rewarded according to his attendance record.\n",
    "\n",
    "# Example 1:\n",
    "# Input: \"PPALLP\"\n",
    "# Output: True\n",
    "# Example 2:\n",
    "# Input: \"PPALLL\"\n",
    "# Output: False\n",
    "    \n",
    "# https://leetcode.com/problems/student-attendance-record-i/\n",
    "\n",
    "def checkRecord(s):\n",
    "    a_count = 0\n",
    "    l_count = 0\n",
    "\n",
    "    for char in s:\n",
    "        if char == 'A':\n",
    "            a_count += 1\n",
    "            if a_count > 1:\n",
    "                return False\n",
    "            l_count = 0 #need to reset l_count here for case 'LAL' (not consecutive L's but l_count=2)\n",
    "        elif char == 'L':\n",
    "            l_count += 1\n",
    "            if l_count > 2:\n",
    "                return False\n",
    "        else:\n",
    "            l_count = 0\n",
    "    return True\n",
    "\n",
    "checkRecord('PPALLP')"
   ]
  },
  {
   "cell_type": "code",
   "execution_count": 162,
   "metadata": {
    "collapsed": true
   },
   "outputs": [],
   "source": [
    "# Given a binary tree, check whether it is a mirror of itself (ie, symmetric around its center).\n",
    "\n",
    "# For example, this binary tree [1,2,2,3,4,4,3] is symmetric:\n",
    "\n",
    "#     1\n",
    "#    / \\\n",
    "#   2   2\n",
    "#  / \\ / \\\n",
    "# 3  4 4  3\n",
    " \n",
    "\n",
    "# But the following [1,2,2,null,3,null,3] is not:\n",
    "\n",
    "#     1\n",
    "#    / \\\n",
    "#   2   2\n",
    "#    \\   \\\n",
    "#    3    3\n",
    "    \n",
    "# https://leetcode.com/problems/symmetric-tree/\n",
    "\n",
    "def isSymmetric(root):\n",
    "    if root == None:\n",
    "        return True\n",
    "    return helper(root.left, root.right)\n",
    "\n",
    "def helper(left, right):\n",
    "    if left and right:\n",
    "        return left.val == right.val and helper(left.left, right.right) and helper(left.right, right.left)\n",
    "    return left == right"
   ]
  },
  {
   "cell_type": "code",
   "execution_count": 163,
   "metadata": {},
   "outputs": [
    {
     "data": {
      "text/plain": [
       "6"
      ]
     },
     "execution_count": 163,
     "metadata": {},
     "output_type": "execute_result"
    }
   ],
   "source": [
    "# Given an integer array nums, find the contiguous subarray (containing at least one number) which has the largest sum and \n",
    "# return its sum.\n",
    "\n",
    "# Example:\n",
    "\n",
    "# Input: [-2,1,-3,4,-1,2,1,-5,4],\n",
    "# Output: 6\n",
    "# Explanation: [4,-1,2,1] has the largest sum = 6.\n",
    "\n",
    "# https://leetcode.com/problems/maximum-subarray/\n",
    "\n",
    "def maxSubArray(nums):\n",
    "    curr_sum = nums[0]\n",
    "    max_sum = nums[0]\n",
    "    \n",
    "    for i in range(1, len(nums)):\n",
    "        curr_sum = max(nums[i], curr_sum+nums[i])\n",
    "        max_sum = max(max_sum, curr_sum)\n",
    "    return max_sum\n",
    "\n",
    "maxSubArray([-2,1,-3,4,-1,2,1,-5,4])"
   ]
  },
  {
   "cell_type": "code",
   "execution_count": 166,
   "metadata": {},
   "outputs": [
    {
     "data": {
      "text/plain": [
       "[0, 1]"
      ]
     },
     "execution_count": 166,
     "metadata": {},
     "output_type": "execute_result"
    }
   ],
   "source": [
    "# Given an array of integers, return indices of the two numbers such that they add up to a specific target.\n",
    "\n",
    "# You may assume that each input would have exactly one solution, and you may not use the same element twice.\n",
    "\n",
    "# Example:\n",
    "\n",
    "# Given nums = [2, 7, 11, 15], target = 9,\n",
    "\n",
    "# Because nums[0] + nums[1] = 2 + 7 = 9,\n",
    "# return [0, 1].\n",
    "\n",
    "# https://leetcode.com/problems/two-sum/\n",
    "\n",
    "def twoSum(nums, target):\n",
    "    #BRUTE FORCE\n",
    "#     for i in range(len(nums)):\n",
    "#         for j in range(i+1, len(nums)):\n",
    "#             if nums[i] + nums[j] == target:\n",
    "#                 return [i, j]\n",
    "            \n",
    "    d = {}\n",
    "    for i, num in enumerate(nums):\n",
    "        if num in d:\n",
    "            return [d[num], i]\n",
    "        else:\n",
    "            d[target-num] = i\n",
    "\n",
    "twoSum(nums = [2, 7, 11, 15], target = 9)"
   ]
  },
  {
   "cell_type": "code",
   "execution_count": 167,
   "metadata": {
    "collapsed": true
   },
   "outputs": [],
   "source": [
    "# Given a sorted linked list, delete all duplicates such that each element appear only once.\n",
    "\n",
    "# Example 1:\n",
    "\n",
    "# Input: 1->1->2\n",
    "# Output: 1->2\n",
    "# Example 2:\n",
    "\n",
    "# Input: 1->1->2->3->3\n",
    "# Output: 1->2->3\n",
    "    \n",
    "# https://leetcode.com/problems/remove-duplicates-from-sorted-list/\n",
    "\n",
    "def deleteDuplicates(head):\n",
    "    current = head\n",
    "    while current != None and current.next != None:\n",
    "        if current.val == current.next.val:\n",
    "            current.next = current.next.next\n",
    "        else:\n",
    "            current = current.next\n",
    "    return head"
   ]
  },
  {
   "cell_type": "code",
   "execution_count": 169,
   "metadata": {
    "collapsed": true
   },
   "outputs": [],
   "source": [
    "# Given two non-empty binary trees s and t, check whether tree t has exactly the same structure and node values with a \n",
    "# subtree of s. A subtree of s is a tree consists of a node in s and all of this node's descendants. The tree s could also \n",
    "# be considered as a subtree of itself.\n",
    "\n",
    "# Example 1:\n",
    "# Given tree s:\n",
    "\n",
    "#      3\n",
    "#     / \\\n",
    "#    4   5\n",
    "#   / \\\n",
    "#  1   2\n",
    "# Given tree t:\n",
    "#    4 \n",
    "#   / \\\n",
    "#  1   2\n",
    "# Return true, because t has the same structure and node values with a subtree of s.\n",
    " \n",
    "\n",
    "# Example 2:\n",
    "# Given tree s:\n",
    "\n",
    "#      3\n",
    "#     / \\\n",
    "#    4   5\n",
    "#   / \\\n",
    "#  1   2\n",
    "#     /\n",
    "#    0\n",
    "# Given tree t:\n",
    "#    4\n",
    "#   / \\\n",
    "#  1   2\n",
    "# Return false.\n",
    "\n",
    "# https://leetcode.com/problems/subtree-of-another-tree/\n",
    "\n",
    "def subtree(s, t):\n",
    "    tree1 = preorder(s)\n",
    "    tree2 = preorder(t)\n",
    "    return tree2 in tree1\n",
    "\n",
    "def preorder(node):\n",
    "    if node is None:\n",
    "        return 'null'\n",
    "    return ' ' + str(node.val) + ' ' + preoder(node.left) + ' ' + preoder(node.right)"
   ]
  },
  {
   "cell_type": "code",
   "execution_count": 170,
   "metadata": {},
   "outputs": [
    {
     "data": {
      "text/plain": [
       "'leotcede'"
      ]
     },
     "execution_count": 170,
     "metadata": {},
     "output_type": "execute_result"
    }
   ],
   "source": [
    "# Write a function that takes a string as input and reverse only the vowels of a string.\n",
    "\n",
    "# Example 1:\n",
    "\n",
    "# Input: \"hello\"\n",
    "# Output: \"holle\"\n",
    "# Example 2:\n",
    "\n",
    "# Input: \"leetcode\"\n",
    "# Output: \"leotcede\"\n",
    "    \n",
    "# https://leetcode.com/problems/reverse-vowels-of-a-string/\n",
    "\n",
    "def reverseVowels(s):\n",
    "    vowels = 'AEIOUaeiou'\n",
    "    data = list(s)\n",
    "    left, right = 0, len(data)-1\n",
    "    \n",
    "    while left < right:\n",
    "        if data[left] in vowels and data[right] in vowels:\n",
    "            data[left], data[right] = data[right], data[left]\n",
    "            left += 1\n",
    "            right -= 1\n",
    "        if data[left] not in vowels:\n",
    "            left += 1\n",
    "        if data[right] not in vowels:\n",
    "            right -= 1\n",
    "    return ''.join(data)\n",
    "\n",
    "reverseVowels('leetcode')"
   ]
  },
  {
   "cell_type": "code",
   "execution_count": 173,
   "metadata": {},
   "outputs": [
    {
     "data": {
      "text/plain": [
       "False"
      ]
     },
     "execution_count": 173,
     "metadata": {},
     "output_type": "execute_result"
    }
   ],
   "source": [
    "# Given an integer, write a function to determine if it is a power of three.\n",
    "\n",
    "# Example 1:\n",
    "\n",
    "# Input: 27\n",
    "# Output: true\n",
    "# Example 2:\n",
    "\n",
    "# Input: 0\n",
    "# Output: false\n",
    "# Example 3:\n",
    "\n",
    "# Input: 9\n",
    "# Output: true\n",
    "# Example 4:\n",
    "\n",
    "# Input: 45\n",
    "# Output: false\n",
    "    \n",
    "# https://leetcode.com/problems/power-of-three/\n",
    "\n",
    "def powerOfThree(n):\n",
    "    if n < 1:\n",
    "        return False\n",
    "    while n%3 == 0:\n",
    "        n /= 3\n",
    "    return n == 1\n",
    "\n",
    "powerOfThree(45)"
   ]
  },
  {
   "cell_type": "code",
   "execution_count": 174,
   "metadata": {
    "collapsed": true
   },
   "outputs": [],
   "source": [
    "# Given a linked list, determine if it has a cycle in it.\n",
    "\n",
    "# To represent a cycle in the given linked list, we use an integer pos which represents the position (0-indexed) in the \n",
    "# linked list where tail connects to. If pos is -1, then there is no cycle in the linked list.\n",
    "\n",
    " \n",
    "\n",
    "# Example 1:\n",
    "\n",
    "# Input: head = [3,2,0,-4], pos = 1\n",
    "# Output: true\n",
    "# Explanation: There is a cycle in the linked list, where tail connects to the second node.\n",
    "\n",
    "# https://leetcode.com/problems/linked-list-cycle/\n",
    "\n",
    "def cycle(head):\n",
    "    if not head:\n",
    "        return False\n",
    "    slow = head\n",
    "    fast = head.next\n",
    "    \n",
    "    while slow != fast:\n",
    "        if fast is None or fast.next is None:\n",
    "            return False\n",
    "        slow = slow.next\n",
    "        fast = fast.next.next\n",
    "    return True"
   ]
  },
  {
   "cell_type": "code",
   "execution_count": 184,
   "metadata": {},
   "outputs": [
    {
     "data": {
      "text/plain": [
       "[2, 3, 4, 5, 7, 9, 10]"
      ]
     },
     "execution_count": 184,
     "metadata": {},
     "output_type": "execute_result"
    }
   ],
   "source": [
    "# Given two positive integers x and y, an integer is powerful if it is equal to x^i + y^j for some integers i >= 0 and j >= 0.\n",
    "\n",
    "# Return a list of all powerful integers that have value less than or equal to bound.\n",
    "\n",
    "# You may return the answer in any order.  In your answer, each value should occur at most once.\n",
    "\n",
    "# Note:\n",
    "\n",
    "# 1 <= x <= 100\n",
    "# 1 <= y <= 100\n",
    "# 0 <= bound <= 10^6\n",
    "\n",
    "# Example 1:\n",
    "\n",
    "# Input: x = 2, y = 3, bound = 10\n",
    "# Output: [2,3,4,5,7,9,10]\n",
    "# Explanation: \n",
    "# 2 = 2^0 + 3^0\n",
    "# 3 = 2^1 + 3^0\n",
    "# 4 = 2^0 + 3^1\n",
    "# 5 = 2^1 + 3^1\n",
    "# 7 = 2^2 + 3^1\n",
    "# 9 = 2^3 + 3^0\n",
    "# 10 = 2^0 + 3^2\n",
    "\n",
    "# https://leetcode.com/problems/powerful-integers/\n",
    "\n",
    "def powerInteger(x, y, bound):\n",
    "    result = set()\n",
    "    for i in range(20): #choose range 20 since 2**20 + 1 > 1000000\n",
    "        for j in range(20):\n",
    "            curr_bound = x**i + y**j\n",
    "            if curr_bound <= bound:\n",
    "                result.add(curr_bound)\n",
    "    return list(result)\n",
    "\n",
    "powerInteger(x = 2, y = 3, bound = 10)"
   ]
  },
  {
   "cell_type": "code",
   "execution_count": 187,
   "metadata": {
    "collapsed": true
   },
   "outputs": [],
   "source": [
    "# 05/20"
   ]
  },
  {
   "cell_type": "code",
   "execution_count": 189,
   "metadata": {},
   "outputs": [
    {
     "data": {
      "text/plain": [
       "True"
      ]
     },
     "execution_count": 189,
     "metadata": {},
     "output_type": "execute_result"
    }
   ],
   "source": [
    "# Given a string, determine if it is a palindrome, considering only alphanumeric characters and ignoring cases.\n",
    "\n",
    "# Note: For the purpose of this problem, we define empty string as valid palindrome.\n",
    "\n",
    "# Example 1:\n",
    "\n",
    "# Input: \"A man, a plan, a canal: Panama\"\n",
    "# Output: true\n",
    "# Example 2:\n",
    "\n",
    "# Input: \"race a car\"\n",
    "# Output: false\n",
    "    \n",
    "# https://leetcode.com/problems/valid-palindrome/\n",
    "\n",
    "def palindrome(s):\n",
    "    left, right = 0, len(s)-1\n",
    "    while left < right:\n",
    "        while left < right and not s[left].isalnum():\n",
    "            left += 1\n",
    "        while left < right and not s[right].isalnum():\n",
    "            right -= 1\n",
    "        while left < right and s[left].lower() != s[right].lower():\n",
    "            return False\n",
    "        left += 1\n",
    "        right -= 1\n",
    "    return True\n",
    "\n",
    "palindrome(\"A man, a plan, a canal: Panama\")"
   ]
  },
  {
   "cell_type": "code",
   "execution_count": 190,
   "metadata": {},
   "outputs": [
    {
     "data": {
      "text/plain": [
       "False"
      ]
     },
     "execution_count": 190,
     "metadata": {},
     "output_type": "execute_result"
    }
   ],
   "source": [
    "# Given an array A of integers, return true if and only if it is a valid mountain array.\n",
    "\n",
    "# Recall that A is a mountain array if and only if:\n",
    "\n",
    "# A.length >= 3\n",
    "# There exists some i with 0 < i < A.length - 1 such that:\n",
    "# A[0] < A[1] < ... A[i-1] < A[i]\n",
    "# A[i] > A[i+1] > ... > A[A.length - 1]\n",
    "\n",
    "# Example 1:\n",
    "\n",
    "# Input: [2,1]\n",
    "# Output: false\n",
    "\n",
    "# Example 2:\n",
    "\n",
    "# Input: [3,5,5]\n",
    "# Output: false\n",
    "# Example 3:\n",
    "\n",
    "# Input: [0,3,2,1]\n",
    "# Output: true\n",
    "    \n",
    "# https://leetcode.com/problems/valid-mountain-array/\n",
    "\n",
    "def validMountainArray(A):\n",
    "    n = len(A)\n",
    "    i = 0\n",
    "    \n",
    "    if n < 3:\n",
    "        return False\n",
    "    \n",
    "    while i+1 < n and A[i] < A[i+1]:\n",
    "        i += 1\n",
    "        \n",
    "    if i == 0 or i == n-1:\n",
    "        return False\n",
    "    \n",
    "    while i+1 < n and A[i] > A[i+1]:\n",
    "        i += 1\n",
    "    \n",
    "    return i == n-1\n",
    "\n",
    "validMountainArray([2,1])            "
   ]
  },
  {
   "cell_type": "code",
   "execution_count": 199,
   "metadata": {},
   "outputs": [
    {
     "data": {
      "text/plain": [
       "1"
      ]
     },
     "execution_count": 199,
     "metadata": {},
     "output_type": "execute_result"
    }
   ],
   "source": [
    "# Given a string s consists of upper/lower-case alphabets and empty space characters ' ', return the length of last word \n",
    "# (last word means the last appearing word if we loop from left to right) in the string.\n",
    "\n",
    "# If the last word does not exist, return 0.\n",
    "\n",
    "# Note: A word is defined as a maximal substring consisting of non-space characters only.\n",
    "\n",
    "# Example:\n",
    "\n",
    "# Input: \"Hello World\"\n",
    "# Output: 5\n",
    "\n",
    "def lengthLastWord(s):\n",
    "    l = s.split() #can't use s.split(' ') for case s='a '\n",
    "    \n",
    "    return len(l[-1]) if l else 0\n",
    "\n",
    "lengthLastWord('Hello World')\n",
    "lengthLastWord('a ')"
   ]
  },
  {
   "cell_type": "code",
   "execution_count": 209,
   "metadata": {},
   "outputs": [
    {
     "name": "stdout",
     "output_type": "stream",
     "text": [
      "0 0\n",
      "0 1\n"
     ]
    },
    {
     "data": {
      "text/plain": [
       "True"
      ]
     },
     "execution_count": 209,
     "metadata": {},
     "output_type": "execute_result"
    }
   ],
   "source": [
    "# Given a non-negative integer c, your task is to decide whether there're two integers a and b such that a2 + b2 = c.\n",
    "\n",
    "# Example 1:\n",
    "\n",
    "# Input: 5\n",
    "# Output: True\n",
    "# Explanation: 1 * 1 + 2 * 2 = 5\n",
    " \n",
    "\n",
    "# Example 2:\n",
    "\n",
    "# Input: 3\n",
    "# Output: False\n",
    "\n",
    "def squareNumbers(c):\n",
    "    for i in range(c+1):\n",
    "        for j in range(i, c+1):\n",
    "#             print(i, j)\n",
    "            if i**2 + j**2 == c:\n",
    "                return True\n",
    "    return False\n",
    "\n",
    "    #OPTIMIZED USING SQUARE ROOT FUNCTION\n",
    "#     for a in range(int(math.sqrt(c / 2)) + 1):\n",
    "#         if math.sqrt(c - a ** 2).is_integer():\n",
    "#             return True\n",
    "#     return False\n",
    "\n",
    "squareNumbers(1)"
   ]
  },
  {
   "cell_type": "code",
   "execution_count": 211,
   "metadata": {},
   "outputs": [
    {
     "data": {
      "text/plain": [
       "True"
      ]
     },
     "execution_count": 211,
     "metadata": {},
     "output_type": "execute_result"
    }
   ],
   "source": [
    "# Suppose you have a long flowerbed in which some of the plots are planted and some are not. However, flowers cannot be \n",
    "# planted in adjacent plots - they would compete for water and both would die.\n",
    "\n",
    "# Given a flowerbed (represented as an array containing 0 and 1, where 0 means empty and 1 means not empty), and a number n, \n",
    "# return if n new flowers can be planted in it without violating the no-adjacent-flowers rule.\n",
    "\n",
    "# Example 1:\n",
    "# Input: flowerbed = [1,0,0,0,1], n = 1\n",
    "# Output: True\n",
    "# Example 2:\n",
    "# Input: flowerbed = [1,0,0,0,1], n = 2\n",
    "# Output: False\n",
    "\n",
    "# https://leetcode.com/problems/can-place-flowers/\n",
    "\n",
    "def canPlaceFlower(flowerbed, n):\n",
    "    count = 0\n",
    "    flowerbed = [0] + flowerbed + [0]    \n",
    "    for i in range(1, len(flowerbed)-1):\n",
    "        if flowerbed[i-1] == flowerbed[i] == flowerbed[i+1] == 0:\n",
    "            flowerbed[i] = 1\n",
    "            count += 1\n",
    "    return count >= n\n",
    "\n",
    "canPlaceFlower(flowerbed = [1,0,0,0,1], n = 1)"
   ]
  },
  {
   "cell_type": "code",
   "execution_count": 212,
   "metadata": {},
   "outputs": [
    {
     "data": {
      "text/plain": [
       "-321"
      ]
     },
     "execution_count": 212,
     "metadata": {},
     "output_type": "execute_result"
    }
   ],
   "source": [
    "# Given a 32-bit signed integer, reverse digits of an integer.\n",
    "\n",
    "# Example 1:\n",
    "\n",
    "# Input: 123\n",
    "# Output: 321\n",
    "# Example 2:\n",
    "\n",
    "# Input: -123\n",
    "# Output: -321\n",
    "# Example 3:\n",
    "\n",
    "# Input: 120\n",
    "# Output: 21\n",
    "\n",
    "# https://leetcode.com/problems/reverse-integer/\n",
    "\n",
    "def reverseInteger(x):\n",
    "    neg = 0\n",
    "    if x < 0:\n",
    "        neg = 1\n",
    "        x *= -1\n",
    "    \n",
    "    x = int(str(x)[::-1])\n",
    "    \n",
    "    if x > 2**31:\n",
    "        return 0\n",
    "    if neg == 1:\n",
    "        x *= -1\n",
    "    return x\n",
    "\n",
    "reverseInteger(-123)"
   ]
  },
  {
   "cell_type": "code",
   "execution_count": 215,
   "metadata": {},
   "outputs": [
    {
     "data": {
      "text/plain": [
       "1"
      ]
     },
     "execution_count": 215,
     "metadata": {},
     "output_type": "execute_result"
    }
   ],
   "source": [
    "# Given a non-empty array of integers, return the third maximum number in this array. If it does not exist, return the \n",
    "# maximum number. The time complexity must be in O(n).\n",
    "\n",
    "# Example 1:\n",
    "# Input: [3, 2, 1]\n",
    "\n",
    "# Output: 1\n",
    "\n",
    "# Explanation: The third maximum is 1.\n",
    "# Example 2:\n",
    "# Input: [1, 2]\n",
    "\n",
    "# Output: 2\n",
    "\n",
    "# Explanation: The third maximum does not exist, so the maximum (2) is returned instead.\n",
    "# Example 3:\n",
    "# Input: [2, 2, 3, 1]\n",
    "\n",
    "# Output: 1\n",
    "\n",
    "# Explanation: Note that the third maximum here means the third maximum distinct number.\n",
    "# Both numbers with value 2 are both considered as second maximum.\n",
    "\n",
    "# https://leetcode.com/problems/third-maximum-number/\n",
    "\n",
    "def thirdMax(nums):\n",
    "    num_set = sorted(set(nums))\n",
    "    if len(num_set) < 3:\n",
    "        return max(num_set)\n",
    "    else:\n",
    "        return num_set[-3]\n",
    "    \n",
    "thirdMax([2, 2, 3, 1])"
   ]
  },
  {
   "cell_type": "code",
   "execution_count": 222,
   "metadata": {},
   "outputs": [
    {
     "data": {
      "text/plain": [
       "[1, 3, 3]"
      ]
     },
     "execution_count": 222,
     "metadata": {},
     "output_type": "execute_result"
    }
   ],
   "source": [
    "# We are given a list nums of integers representing a list compressed with run-length encoding.\n",
    "\n",
    "# Consider each adjacent pair of elements [freq, val] = [nums[2*i], nums[2*i+1]] (with i >= 0).  \n",
    "# For each such pair, there are freq elements with value val concatenated in a sublist. Concatenate all the sublists from \n",
    "# left to right to generate the decompressed list.\n",
    "\n",
    "# Return the decompressed list.\n",
    "\n",
    " \n",
    "\n",
    "# Example 1:\n",
    "\n",
    "# Input: nums = [1,2,3,4]\n",
    "# Output: [2,4,4,4]\n",
    "# Explanation: The first pair [1,2] means we have freq = 1 and val = 2 so we generate the array [2].\n",
    "# The second pair [3,4] means we have freq = 3 and val = 4 so we generate [4,4,4].\n",
    "# At the end the concatenation [2] + [4,4,4] is [2,4,4,4].\n",
    "# Example 2:\n",
    "\n",
    "# Input: nums = [1,1,2,3]\n",
    "# Output: [1,3,3]\n",
    "\n",
    "# https://leetcode.com/problems/decompress-run-length-encoded-list/\n",
    "\n",
    "def decompressList(nums):\n",
    "    start = 0\n",
    "    res = []\n",
    "    while start < len(nums)-1:\n",
    "        res = res + [nums[start+1]] * nums[start]\n",
    "        start += 2\n",
    "    return res\n",
    "\n",
    "decompressList([1, 1, 2, 3])"
   ]
  },
  {
   "cell_type": "code",
   "execution_count": 232,
   "metadata": {},
   "outputs": [
    {
     "data": {
      "text/plain": [
       "73"
      ]
     },
     "execution_count": 232,
     "metadata": {},
     "output_type": "execute_result"
    }
   ],
   "source": [
    "# There is a special keyboard with all keys in a single row.\n",
    "\n",
    "# Given a string keyboard of length 26 indicating the layout of the keyboard (indexed from 0 to 25), initially your finger \n",
    "# is at index 0. To type a character, you have to move your finger to the index of the desired character. The time taken to \n",
    "# move your finger from index i to index j is |i - j|.\n",
    "\n",
    "# You want to type a string word. Write a function to calculate how much time it takes to type it with one finger.\n",
    "\n",
    " \n",
    "\n",
    "# Example 1:\n",
    "\n",
    "# Input: keyboard = \"abcdefghijklmnopqrstuvwxyz\", word = \"cba\"\n",
    "# Output: 4\n",
    "# Explanation: The index moves from 0 to 2 to write 'c' then to 1 to write 'b' then to 0 again to write 'a'.\n",
    "# Total time = 2 + 1 + 1 = 4. \n",
    "# Example 2:\n",
    "\n",
    "# Input: keyboard = \"pqrstuvwxyzabcdefghijklmno\", word = \"leetcode\"\n",
    "# Output: 73\n",
    "\n",
    "# https://leetcode.com/problems/single-row-keyboard/\n",
    "\n",
    "def keyboard(keyboard, word):\n",
    "    d = {}\n",
    "    for i, char in enumerate(keyboard):\n",
    "        d[char] = i\n",
    "        \n",
    "    result = 0\n",
    "    curr = 0\n",
    "    for char in word:\n",
    "        result += abs(d[char]-curr)\n",
    "        curr = d[char]\n",
    "    return result\n",
    "\n",
    "keyboard(keyboard = \"pqrstuvwxyzabcdefghijklmno\", word = \"leetcode\")"
   ]
  },
  {
   "cell_type": "code",
   "execution_count": 234,
   "metadata": {
    "collapsed": true
   },
   "outputs": [],
   "source": [
    "# Given the root node of a binary search tree, return the sum of values of all nodes with value between L and R (inclusive).\n",
    "\n",
    "# The binary search tree is guaranteed to have unique values.\n",
    "\n",
    " \n",
    "\n",
    "# Example 1:\n",
    "\n",
    "# Input: root = [10,5,15,3,7,null,18], L = 7, R = 15\n",
    "# Output: 32\n",
    "# Example 2:\n",
    "\n",
    "# Input: root = [10,5,15,3,7,13,18,1,null,6], L = 6, R = 10\n",
    "# Output: 23\n",
    "\n",
    "# https://leetcode.com/problems/range-sum-of-bst/\n",
    "\n",
    "def rangeSumBST(root, L, R):\n",
    "    if not root:\n",
    "        return 0\n",
    "    if R < root.val:\n",
    "        return rangeSumBST(root.left, L, R)\n",
    "    elif L > root.val:\n",
    "        return rangeSumBST(root.right, L, R)\n",
    "    else:\n",
    "        return rangeSumBST(root.left, L, R) + root.val + rangeSumBST(root.right, L, R)"
   ]
  },
  {
   "cell_type": "code",
   "execution_count": 245,
   "metadata": {},
   "outputs": [
    {
     "data": {
      "text/plain": [
       "2"
      ]
     },
     "execution_count": 245,
     "metadata": {},
     "output_type": "execute_result"
    }
   ],
   "source": [
    "# International Morse Code defines a standard encoding where each letter is mapped to a series of dots and dashes, as follows:\n",
    "#     \"a\" maps to \".-\", \"b\" maps to \"-...\", \"c\" maps to \"-.-.\", and so on.\n",
    "\n",
    "# For convenience, the full table for the 26 letters of the English alphabet is given below:\n",
    "\n",
    "# [\".-\",\"-...\",\"-.-.\",\"-..\",\".\",\"..-.\",\"--.\",\"....\",\"..\",\".---\",\"-.-\",\".-..\",\"--\",\"-.\",\"---\",\".--.\",\"--.-\",\".-.\",\"...\",\n",
    "#  \"-\",\"..-\",\"...-\",\".--\",\"-..-\",\"-.--\",\"--..\"]\n",
    "# Now, given a list of words, each word can be written as a concatenation of the Morse code of each letter. For example, \n",
    "# \"cba\" can be written as \"-.-..--...\", (which is the concatenation \"-.-.\" + \"-...\" + \".-\"). We'll call such a concatenation, \n",
    "# the transformation of a word.\n",
    "\n",
    "# Return the number of different transformations among all words we have.\n",
    "\n",
    "# Example:\n",
    "# Input: words = [\"gin\", \"zen\", \"gig\", \"msg\"]\n",
    "# Output: 2\n",
    "# Explanation: \n",
    "# The transformation of each word is:\n",
    "# \"gin\" -> \"--...-.\"\n",
    "# \"zen\" -> \"--...-.\"\n",
    "# \"gig\" -> \"--...--.\"\n",
    "# \"msg\" -> \"--...--.\"\n",
    "\n",
    "# There are 2 different transformations, \"--...-.\" and \"--...--.\".\n",
    "\n",
    "# https://leetcode.com/problems/unique-morse-code-words/\n",
    "\n",
    "def uniqueMorseCode(words):\n",
    "    morse = [\".-\",\"-...\",\"-.-.\",\"-..\",\".\",\"..-.\",\"--.\",\"....\",\"..\",\".---\",\"-.-\",\".-..\",\"--\",\"-.\",\"---\",\".--.\",\"--.-\",\n",
    "             \".-.\",\"...\",\"-\",\"..-\",\"...-\",\".--\",\"-..-\",\"-.--\",\"--..\"]\n",
    "    \n",
    "    result = {}\n",
    "    for word in words:\n",
    "        temp = ''\n",
    "        for char in word:\n",
    "            temp += morse[ord(char)-ord('a')]\n",
    "#             print(temp)\n",
    "        result[temp] = result.get(temp, 1) + 1\n",
    "#     print(result)\n",
    "    return len(result.keys())\n",
    "\n",
    "uniqueMorseCode(words = [\"gin\", \"zen\", \"gig\", \"msg\"])"
   ]
  },
  {
   "cell_type": "code",
   "execution_count": 242,
   "metadata": {},
   "outputs": [
    {
     "data": {
      "text/plain": [
       "True"
      ]
     },
     "execution_count": 242,
     "metadata": {},
     "output_type": "execute_result"
    }
   ],
   "source": [
    "# There is a robot starting at position (0, 0), the origin, on a 2D plane. Given a sequence of its moves, judge if this \n",
    "# robot ends up at (0, 0) after it completes its moves.\n",
    "\n",
    "# The move sequence is represented by a string, and the character moves[i] represents its ith move. Valid moves are \n",
    "# R (right),L (left), U (up), and D (down). If the robot returns to the origin after it finishes all of its moves, return \n",
    "# true. Otherwise, return false.\n",
    "\n",
    "# Note: The way that the robot is \"facing\" is irrelevant. \"R\" will always make the robot move to the right once, \"L\" will \n",
    "#     always make it move left, etc. Also, assume that the magnitude of the robot's movement is the same for each move.\n",
    "\n",
    "# Example 1:\n",
    "\n",
    "# Input: \"UD\"\n",
    "# Output: true \n",
    "# Explanation: The robot moves up once, and then down once. All moves have the same magnitude, so it ended up at the origin \n",
    "#     where it started. Therefore, we return true.\n",
    " \n",
    "\n",
    "# Example 2:\n",
    "\n",
    "# Input: \"LL\"\n",
    "# Output: false\n",
    "# Explanation: The robot moves left twice. It ends up two \"moves\" to the left of the origin. We return false because it \n",
    "# is not at the origin at the end of its moves.\n",
    "\n",
    "# https://leetcode.com/problems/robot-return-to-origin/\n",
    "\n",
    "def judgeCircle(moves):\n",
    "    x, y = 0, 0\n",
    "    for move in moves:\n",
    "        if move == 'U':\n",
    "            y += 1\n",
    "        elif move == 'D':\n",
    "            y -= 1\n",
    "        elif move == 'R':\n",
    "            x += 1\n",
    "        elif move == 'L':\n",
    "            x -= 1\n",
    "    return x == y == 0\n",
    "\n",
    "judgeCircle('UD')"
   ]
  },
  {
   "cell_type": "code",
   "execution_count": 243,
   "metadata": {
    "collapsed": true
   },
   "outputs": [],
   "source": [
    "# Given the root node of a binary search tree (BST) and a value. You need to find the node in the BST that the node's \n",
    "# value equals the given value. Return the subtree rooted with that node. If such node doesn't exist, you should return NULL.\n",
    "\n",
    "# For example, \n",
    "\n",
    "# Given the tree:\n",
    "#         4\n",
    "#        / \\\n",
    "#       2   7\n",
    "#      / \\\n",
    "#     1   3\n",
    "\n",
    "# And the value to search: 2\n",
    "# You should return this subtree:\n",
    "\n",
    "#       2     \n",
    "#      / \\   \n",
    "#     1   3\n",
    "# In the example above, if we want to search the value 5, since there is no node with value 5, we should return NULL.\n",
    "\n",
    "# Note that an empty tree is represented by NULL, therefore you would see the expected output (serialized tree format) \n",
    "# as [], not null.\n",
    "\n",
    "# https://leetcode.com/problems/search-in-a-binary-search-tree/\n",
    "\n",
    "def searchBST(root, val):\n",
    "    if root and val < root.val:\n",
    "        return searchBST(root.left, val)\n",
    "    elif root and val > root.val:\n",
    "        return searchBST(root.right, val)\n",
    "    else:\n",
    "        return root"
   ]
  },
  {
   "cell_type": "code",
   "execution_count": 246,
   "metadata": {
    "collapsed": true
   },
   "outputs": [],
   "source": [
    "# 05/21"
   ]
  },
  {
   "cell_type": "code",
   "execution_count": 255,
   "metadata": {},
   "outputs": [
    {
     "data": {
      "text/plain": [
       "3"
      ]
     },
     "execution_count": 255,
     "metadata": {},
     "output_type": "execute_result"
    }
   ],
   "source": [
    "# Students are asked to stand in non-decreasing order of heights for an annual photo.\n",
    "\n",
    "# Return the minimum number of students that must move in order for all students to be standing in non-decreasing order of \n",
    "# height.\n",
    "\n",
    "# Notice that when a group of students is selected they can reorder in any possible way between themselves and the non \n",
    "# selected students remain on their seats.\n",
    "\n",
    " \n",
    "\n",
    "# Example 1:\n",
    "\n",
    "# Input: heights = [1,1,4,2,1,3]\n",
    "# Output: 3\n",
    "# Explanation: \n",
    "# Current array : [1,1,4,2,1,3]\n",
    "# Target array  : [1,1,1,2,3,4]\n",
    "# On index 2 (0-based) we have 4 vs 1 so we have to move this student.\n",
    "# On index 4 (0-based) we have 1 vs 3 so we have to move this student.\n",
    "# On index 5 (0-based) we have 3 vs 4 so we have to move this student.\n",
    "# Example 2:\n",
    "\n",
    "# Input: heights = [5,1,2,3,4]\n",
    "# Output: 5\n",
    "# Example 3:\n",
    "\n",
    "# Input: heights = [1,2,3,4,5]\n",
    "# Output: 0\n",
    "\n",
    "# https://leetcode.com/problems/height-checker/\n",
    "\n",
    "def heightChecker(heights):\n",
    "    sort_heights = sorted(heights)\n",
    "    count = 0\n",
    "    i = 0\n",
    "    \n",
    "    while i < len(heights):\n",
    "        if sort_heights[i] != heights[i]:\n",
    "            count += 1\n",
    "        i += 1\n",
    "    return count\n",
    "\n",
    "heightChecker(heights = [5,1,2,3,4])\n",
    "heightChecker(heights = [1,1,4,2,1,3])"
   ]
  },
  {
   "cell_type": "code",
   "execution_count": 260,
   "metadata": {},
   "outputs": [
    {
     "data": {
      "text/plain": [
       "5"
      ]
     },
     "execution_count": 260,
     "metadata": {},
     "output_type": "execute_result"
    }
   ],
   "source": [
    "def minTransfers(transactions): \n",
    "    '''\n",
    "    pos means people owe you\n",
    "    neg means you owe people\n",
    "\n",
    "    '''\n",
    "\n",
    "    k = 0\n",
    "    return solution(transactions, k)\n",
    "        \n",
    "def solution(transactions, k):\n",
    "    result = 0\n",
    "    for p1, p2, debt in transactions:\n",
    "        if p1 == k:\n",
    "            result += debt\n",
    "        if p2 == k:\n",
    "            result -= debt\n",
    "    return result\n",
    "\n",
    "minTransfers([[0, 1, 10], [2, 0, 5]])"
   ]
  },
  {
   "cell_type": "code",
   "execution_count": 283,
   "metadata": {},
   "outputs": [
    {
     "data": {
      "text/plain": [
       "[0, 1, 9, 16, 100]"
      ]
     },
     "execution_count": 283,
     "metadata": {},
     "output_type": "execute_result"
    }
   ],
   "source": [
    "# Given an array of integers A sorted in non-decreasing order, return an array of the squares of each number, also in \n",
    "# sorted non-decreasing order.\n",
    "\n",
    " \n",
    "\n",
    "# Example 1:\n",
    "\n",
    "# Input: [-4,-1,0,3,10]\n",
    "# Output: [0,1,9,16,100]\n",
    "\n",
    "# https://leetcode.com/problems/squares-of-a-sorted-array/\n",
    "\n",
    "def squareSort(nums):\n",
    "#     result = []\n",
    "#     for num in nums:\n",
    "#         result.append(num**2)\n",
    "#     return sorted(result)\n",
    "\n",
    "    left, right = 0, len(nums)-1\n",
    "    result = []\n",
    "    while left <= right:\n",
    "        if nums[left] ** 2 < nums[right] ** 2:\n",
    "            result.append(nums[right]**2)\n",
    "            right -= 1\n",
    "        else:\n",
    "            result.append(nums[left]**2)\n",
    "            left += 1\n",
    "    return result[::-1]\n",
    "\n",
    "squareSort([-4,-1,0,3,10])"
   ]
  },
  {
   "cell_type": "code",
   "execution_count": 285,
   "metadata": {
    "collapsed": true
   },
   "outputs": [],
   "source": [
    "# Given a non-empty, singly linked list with head node head, return a middle node of linked list.\n",
    "\n",
    "# If there are two middle nodes, return the second middle node.\n",
    "\n",
    " \n",
    "\n",
    "# Example 1:\n",
    "\n",
    "# Input: [1,2,3,4,5]\n",
    "# Output: Node 3 from this list (Serialization: [3,4,5])\n",
    "# The returned node has value 3.  (The judge's serialization of this node is [3,4,5]).\n",
    "# Note that we returned a ListNode object ans, such that:\n",
    "# ans.val = 3, ans.next.val = 4, ans.next.next.val = 5, and ans.next.next.next = NULL.\n",
    "# Example 2:\n",
    "\n",
    "# Input: [1,2,3,4,5,6]\n",
    "# Output: Node 4 from this list (Serialization: [4,5,6])\n",
    "# Since the list has two middle nodes with values 3 and 4, we return the second one.\n",
    "\n",
    "# https://leetcode.com/problems/middle-of-the-linked-list/\n",
    "\n",
    "def middleNode(head):\n",
    "    slow, fast = head, head\n",
    "    while fast and fast.next:\n",
    "        slow = slow.next\n",
    "        fast = fast.next.next\n",
    "    return slow"
   ]
  },
  {
   "cell_type": "code",
   "execution_count": 295,
   "metadata": {},
   "outputs": [
    {
     "data": {
      "text/plain": [
       "2"
      ]
     },
     "execution_count": 295,
     "metadata": {},
     "output_type": "execute_result"
    }
   ],
   "source": [
    "# Every email consists of a local name and a domain name, separated by the @ sign.\n",
    "\n",
    "# For example, in alice@leetcode.com, alice is the local name, and leetcode.com is the domain name.\n",
    "\n",
    "# Besides lowercase letters, these emails may contain '.'s or '+'s.\n",
    "\n",
    "# If you add periods ('.') between some characters in the local name part of an email address, mail sent there will be \n",
    "# forwarded to the same address without dots in the local name.  \n",
    "# For example, \"alice.z@leetcode.com\" and \"alicez@leetcode.com\" forward to the same email address.  \n",
    "# (Note that this rule does not apply for domain names.)\n",
    "\n",
    "# If you add a plus ('+') in the local name, everything after the first plus sign will be ignored. This allows certain \n",
    "# emails to be filtered, for example m.y+name@email.com will be forwarded to my@email.com.  \n",
    "# (Again, this rule does not apply for domain names.)\n",
    "\n",
    "# It is possible to use both of these rules at the same time.\n",
    "\n",
    "# Given a list of emails, we send one email to each address in the list.  How many different addresses actually \n",
    "# receive mails? \n",
    "\n",
    " \n",
    "\n",
    "# Example 1:\n",
    "\n",
    "# Input: [\"test.email+alex@leetcode.com\",\"test.e.mail+bob.cathy@leetcode.com\",\"testemail+david@lee.tcode.com\"]\n",
    "# Output: 2\n",
    "# Explanation: \"testemail@leetcode.com\" and \"testemail@lee.tcode.com\" actually receive mails\n",
    "\n",
    "# https://leetcode.com/problems/unique-email-addresses/\n",
    "\n",
    "def numUniqueEmails(emails):\n",
    "    seen =  set()\n",
    "    for email in emails:\n",
    "        local, domain = email.split('@')\n",
    "#         print(local, domain)\n",
    "        if '+' in local:\n",
    "            local = local[:local.index('+')]\n",
    "#             print(local)\n",
    "        seen.add(local.replace('.', '')+'@'+domain)\n",
    "#     return seen\n",
    "    return len(seen)\n",
    "\n",
    "numUniqueEmails([\"test.email+alex@leetcode.com\",\"test.e.mail+bob.cathy@leetcode.com\",\"testemail+david@lee.tcode.com\"])"
   ]
  },
  {
   "cell_type": "code",
   "execution_count": 302,
   "metadata": {},
   "outputs": [
    {
     "data": {
      "text/plain": [
       "'Imaa peaksmaaa oatGmaaaa atinLmaaaaa'"
      ]
     },
     "execution_count": 302,
     "metadata": {},
     "output_type": "execute_result"
    }
   ],
   "source": [
    "# A sentence S is given, composed of words separated by spaces. Each word consists of lowercase and uppercase letters only.\n",
    "\n",
    "# We would like to convert the sentence to \"Goat Latin\" (a made-up language similar to Pig Latin.)\n",
    "\n",
    "# The rules of Goat Latin are as follows:\n",
    "\n",
    "# If a word begins with a vowel (a, e, i, o, or u), append \"ma\" to the end of the word.\n",
    "# For example, the word 'apple' becomes 'applema'.\n",
    " \n",
    "# If a word begins with a consonant (i.e. not a vowel), remove the first letter and append it to the end, then add \"ma\".\n",
    "# For example, the word \"goat\" becomes \"oatgma\".\n",
    " \n",
    "# Add one letter 'a' to the end of each word per its word index in the sentence, starting with 1.\n",
    "# For example, the first word gets \"a\" added to the end, the second word gets \"aa\" added to the end and so on.\n",
    "# Return the final sentence representing the conversion from S to Goat Latin. \n",
    "\n",
    " \n",
    "\n",
    "# Example 1:\n",
    "\n",
    "# Input: \"I speak Goat Latin\"\n",
    "# Output: \"Imaa peaksmaaa oatGmaaaa atinLmaaaaa\"\n",
    "# Example 2:\n",
    "\n",
    "# Input: \"The quick brown fox jumped over the lazy dog\"\n",
    "# Output: \"heTmaa uickqmaaa rownbmaaaa oxfmaaaaa umpedjmaaaaaa overmaaaaaaa hetmaaaaaaaa azylmaaaaaaaaa ogdmaaaaaaaaaa\"\n",
    "\n",
    "# https://leetcode.com/problems/goat-latin/\n",
    "\n",
    "def goatLatin(s):\n",
    "    vowels = 'aeiouAEIOU'\n",
    "    string = s.split()\n",
    "    result = []\n",
    "    a = 'a'\n",
    "    for word in string:\n",
    "        if word[0] in vowels:\n",
    "            word += 'ma'\n",
    "        else:\n",
    "            word = word[1:] + word[0] + 'ma'\n",
    "        result.append(word+a)\n",
    "        a += 'a'\n",
    "#     return result\n",
    "    return ' '.join(result)\n",
    "\n",
    "goatLatin(\"I speak Goat Latin\")"
   ]
  },
  {
   "cell_type": "code",
   "execution_count": 316,
   "metadata": {},
   "outputs": [
    {
     "data": {
      "text/plain": [
       "0"
      ]
     },
     "execution_count": 316,
     "metadata": {},
     "output_type": "execute_result"
    }
   ],
   "source": [
    "# Given a string text, you want to use the characters of text to form as many instances of the word \"balloon\" as possible.\n",
    "\n",
    "# You can use each character in text at most once. Return the maximum number of instances that can be formed.\n",
    "\n",
    " \n",
    "\n",
    "# Example 1:\n",
    "\n",
    "\n",
    "\n",
    "# Input: text = \"nlaebolko\"\n",
    "# Output: 1\n",
    "# Example 2:\n",
    "\n",
    "\n",
    "\n",
    "# Input: text = \"loonbalxballpoon\"\n",
    "# Output: 2\n",
    "# Example 3:\n",
    "\n",
    "# Input: text = \"leetcode\"\n",
    "# Output: 0\n",
    "\n",
    "# https://leetcode.com/problems/maximum-number-of-balloons/\n",
    "import collections\n",
    "def maxNumBalloon(text):\n",
    "    count = collections.Counter(text)\n",
    "    count_balloon = collections.Counter('balloon')\n",
    "#     print(count, count_balloon)\n",
    "    return min([count[c] // count_balloon[c] for c in count_balloon])\n",
    "\n",
    "maxNumBalloon('leetcode')"
   ]
  },
  {
   "cell_type": "code",
   "execution_count": null,
   "metadata": {
    "collapsed": true
   },
   "outputs": [],
   "source": []
  }
 ],
 "metadata": {
  "kernelspec": {
   "display_name": "Python 3",
   "language": "python",
   "name": "python3"
  },
  "language_info": {
   "codemirror_mode": {
    "name": "ipython",
    "version": 3
   },
   "file_extension": ".py",
   "mimetype": "text/x-python",
   "name": "python",
   "nbconvert_exporter": "python",
   "pygments_lexer": "ipython3",
   "version": "3.6.9"
  }
 },
 "nbformat": 4,
 "nbformat_minor": 2
}
